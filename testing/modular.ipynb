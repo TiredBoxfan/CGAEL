{
 "cells": [
  {
   "cell_type": "code",
   "execution_count": null,
   "metadata": {},
   "outputs": [],
   "source": [
    "# Append location to path to allow custom modules to be used.\n",
    "import sys, os\n",
    "sys.path.append(os.path.abspath(os.path.join(\"..\")))"
   ]
  },
  {
   "cell_type": "code",
   "execution_count": null,
   "metadata": {},
   "outputs": [],
   "source": [
    "import tensorflow as tf\n",
    "import tensorflow.keras as keras\n",
    "\n",
    "import cgael"
   ]
  },
  {
   "cell_type": "code",
   "execution_count": null,
   "metadata": {},
   "outputs": [],
   "source": [
    "WORD_COUNT = 4\n",
    "WORD_LENGTH = 10\n",
    "\n",
    "COLOR_COUNT = 2\n",
    "COLOR_CHANNELS = 3"
   ]
  },
  {
   "cell_type": "code",
   "execution_count": null,
   "metadata": {},
   "outputs": [],
   "source": [
    "TOKEN_SET = cgael.LanguageTokenSet(alphabet_tokens=[*'CHAT'], pad_token='-')"
   ]
  },
  {
   "cell_type": "code",
   "execution_count": null,
   "metadata": {},
   "outputs": [],
   "source": [
    "def build_simple_modular_color_speaker(channel_dense):\n",
    "    # Take in a list of colors.\n",
    "    x = y = keras.layers.Input((COLOR_COUNT, COLOR_CHANNELS), name=\"input\")\n",
    "    # Dense colors individually but with the same weights.\n",
    "    y = keras.layers.TimeDistributed(keras.layers.Dense(channel_dense, activation=\"sigmoid\"), name=\"distributed_dense\")(y)\n",
    "    # Dense all colors to appropriate word shape.\n",
    "    y = keras.layers.Flatten(name=\"flatten\")(y)\n",
    "    y = keras.layers.Dense(WORD_COUNT * WORD_LENGTH * TOKEN_SET.token_count, activation=\"sigmoid\", name=\"shape_dense\")(y)\n",
    "    y = keras.layers.Reshape((WORD_COUNT, WORD_LENGTH, TOKEN_SET.token_count), name=\"final_shape\")(y)\n",
    "    return keras.Model(x, y, name=\"speaker\")"
   ]
  },
  {
   "cell_type": "code",
   "execution_count": null,
   "metadata": {},
   "outputs": [],
   "source": [
    "spk = build_simple_modular_color_speaker(channel_dense=5)\n",
    "spk.summary()"
   ]
  },
  {
   "cell_type": "code",
   "execution_count": null,
   "metadata": {},
   "outputs": [],
   "source": [
    "def build_simple_modular_color_listener(embedding_size):\n",
    "    x = y = keras.layers.Input((WORD_COUNT, WORD_LENGTH), name=\"input\")\n",
    "    y = keras.layers.Embedding(TOKEN_SET.token_count, embedding_size, embeddings_initializer=\"random_normal\", name=\"embeddings\")(y)\n",
    "    y = keras.layers.Flatten(name=\"flatten\")(y)\n",
    "    y = keras.layers.Dense(COLOR_COUNT * COLOR_CHANNELS, activation=\"sigmoid\", name=\"shape_dense\")(y)\n",
    "    y = keras.layers.Reshape((COLOR_COUNT, COLOR_CHANNELS), name=\"final_shape\")(y)\n",
    "    return keras.Model(x, y, name=\"listener\")"
   ]
  },
  {
   "cell_type": "code",
   "execution_count": null,
   "metadata": {},
   "outputs": [],
   "source": [
    "lsn = build_simple_modular_color_listener(embedding_size=6)\n",
    "lsn.summary()"
   ]
  },
  {
   "cell_type": "code",
   "execution_count": null,
   "metadata": {},
   "outputs": [],
   "source": [
    "class CgaelToolkit():\n",
    "    def __init__(self, speaker, listener):\n",
    "        self.speaker = speaker\n",
    "        self.listener = listener"
   ]
  },
  {
   "cell_type": "code",
   "execution_count": null,
   "metadata": {},
   "outputs": [],
   "source": [
    "keras.layers.Input(spk.layers[0].input_shape[0])"
   ]
  },
  {
   "cell_type": "code",
   "execution_count": null,
   "metadata": {},
   "outputs": [],
   "source": [
    "def build_train_model(input_shape, speaker, listener):\n",
    "    x = y = keras.layers.Input(input_shape, name=\"input\")\n",
    "    y = speaker(y)\n",
    "    y = cgael.layers.ArgmaxLayer(name=\"argmax\")(y)\n",
    "    y = z = cgael.layers.LanguageDenoiseLayer(do_columns=True, name=\"denoise\")(y)\n",
    "    y = listener(y)\n",
    "    return keras.Model(x, [z, y])"
   ]
  },
  {
   "cell_type": "code",
   "execution_count": null,
   "metadata": {},
   "outputs": [],
   "source": [
    "trn = build_train_model((COLOR_COUNT, COLOR_CHANNELS), spk, lsn)\n",
    "trn.summary()"
   ]
  }
 ],
 "metadata": {
  "kernelspec": {
   "display_name": "Python 3",
   "language": "python",
   "name": "python3"
  },
  "language_info": {
   "codemirror_mode": {
    "name": "ipython",
    "version": 3
   },
   "file_extension": ".py",
   "mimetype": "text/x-python",
   "name": "python",
   "nbconvert_exporter": "python",
   "pygments_lexer": "ipython3",
   "version": "3.11.5"
  }
 },
 "nbformat": 4,
 "nbformat_minor": 2
}
