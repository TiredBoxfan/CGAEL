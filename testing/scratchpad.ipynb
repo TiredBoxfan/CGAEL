{
 "cells": [
  {
   "cell_type": "code",
   "execution_count": 70,
   "metadata": {},
   "outputs": [],
   "source": [
    "import sys, os\n",
    "sys.path.append(os.path.abspath('..'))"
   ]
  },
  {
   "cell_type": "code",
   "execution_count": 35,
   "metadata": {},
   "outputs": [
    {
     "name": "stdout",
     "output_type": "stream",
     "text": [
      "WARNING:tensorflow:From c:\\Users\\nicho\\PyProjects\\CGAEL\\.conda\\Lib\\site-packages\\keras\\src\\losses.py:2976: The name tf.losses.sparse_softmax_cross_entropy is deprecated. Please use tf.compat.v1.losses.sparse_softmax_cross_entropy instead.\n",
      "\n"
     ]
    }
   ],
   "source": [
    "import tensorflow as tf\n",
    "import tensorflow.keras as keras\n",
    "import tensorflow.keras.layers as layer\n",
    "\n",
    "import numpy as np"
   ]
  },
  {
   "cell_type": "code",
   "execution_count": 71,
   "metadata": {},
   "outputs": [],
   "source": [
    "import cgael"
   ]
  },
  {
   "cell_type": "code",
   "execution_count": 11,
   "metadata": {},
   "outputs": [
    {
     "name": "stdout",
     "output_type": "stream",
     "text": [
      "Encoded: tf.Tensor(\n",
      "[[1 3 4 1 2]\n",
      " [4 2 3 4 0]\n",
      " [1 3 4 0 0]], shape=(3, 5), dtype=int64)\n",
      "Denoised: tf.Tensor(\n",
      "[[1 3 4 1 2]\n",
      " [4 2 3 4 0]\n",
      " [1 3 4 0 0]], shape=(3, 5), dtype=int64)\n",
      "Decoded: CATCH THAT CAT\n"
     ]
    }
   ],
   "source": [
    "chat = cgael.LanguageTokenSet(\"CHAT\", '-')\n",
    "denoise = cgael.LanguageDenoiseLayer()\n",
    "\n",
    "a = chat.encode(\"CATCH THAT CAT\", (3,5))\n",
    "print(\"Encoded:\", a)\n",
    "\n",
    "b = denoise(a)\n",
    "print(\"Denoised:\", b)\n",
    "\n",
    "c = chat.decode(b)\n",
    "print(\"Decoded:\", c)"
   ]
  },
  {
   "cell_type": "code",
   "execution_count": 6,
   "metadata": {},
   "outputs": [
    {
     "data": {
      "text/plain": [
       "False"
      ]
     },
     "execution_count": 6,
     "metadata": {},
     "output_type": "execute_result"
    }
   ],
   "source": [
    "from cgael.helpers import ischar\n",
    "\n",
    "ischar(8)"
   ]
  },
  {
   "cell_type": "code",
   "execution_count": 7,
   "metadata": {},
   "outputs": [],
   "source": [
    "import random"
   ]
  },
  {
   "cell_type": "code",
   "execution_count": 15,
   "metadata": {},
   "outputs": [
    {
     "data": {
      "text/plain": [
       "0.5479491076734134"
      ]
     },
     "execution_count": 15,
     "metadata": {},
     "output_type": "execute_result"
    }
   ],
   "source": [
    "def random_color(blur=0.0):\n",
    "    return random.random()\n",
    "\n",
    "random_color()"
   ]
  },
  {
   "cell_type": "code",
   "execution_count": 16,
   "metadata": {},
   "outputs": [
    {
     "data": {
      "text/plain": [
       "0.3537997256763976"
      ]
     },
     "execution_count": 16,
     "metadata": {},
     "output_type": "execute_result"
    }
   ],
   "source": [
    "random.random()"
   ]
  },
  {
   "cell_type": "code",
   "execution_count": 17,
   "metadata": {},
   "outputs": [
    {
     "ename": "AttributeError",
     "evalue": "module 'math' has no attribute 'lerp'",
     "output_type": "error",
     "traceback": [
      "\u001b[1;31m---------------------------------------------------------------------------\u001b[0m",
      "\u001b[1;31mAttributeError\u001b[0m                            Traceback (most recent call last)",
      "Cell \u001b[1;32mIn[17], line 2\u001b[0m\n\u001b[0;32m      1\u001b[0m \u001b[38;5;28;01mimport\u001b[39;00m \u001b[38;5;21;01mmath\u001b[39;00m\n\u001b[1;32m----> 2\u001b[0m \u001b[43mmath\u001b[49m\u001b[38;5;241;43m.\u001b[39;49m\u001b[43mlerp\u001b[49m(\u001b[38;5;241m3\u001b[39m,\u001b[38;5;241m2\u001b[39m,\u001b[38;5;241m.4\u001b[39m)\n",
      "\u001b[1;31mAttributeError\u001b[0m: module 'math' has no attribute 'lerp'"
     ]
    }
   ],
   "source": [
    "import math\n",
    "math.lerp(3,2,.4)"
   ]
  },
  {
   "cell_type": "code",
   "execution_count": 22,
   "metadata": {},
   "outputs": [
    {
     "ename": "TypeError",
     "evalue": "interp() missing 1 required positional argument: 'fp'",
     "output_type": "error",
     "traceback": [
      "\u001b[1;31m---------------------------------------------------------------------------\u001b[0m",
      "\u001b[1;31mTypeError\u001b[0m                                 Traceback (most recent call last)",
      "Cell \u001b[1;32mIn[22], line 2\u001b[0m\n\u001b[0;32m      1\u001b[0m \u001b[38;5;28;01mimport\u001b[39;00m \u001b[38;5;21;01mnumpy\u001b[39;00m \u001b[38;5;28;01mas\u001b[39;00m \u001b[38;5;21;01mnp\u001b[39;00m\n\u001b[1;32m----> 2\u001b[0m \u001b[43mnp\u001b[49m\u001b[38;5;241;43m.\u001b[39;49m\u001b[43minterp\u001b[49m\u001b[43m(\u001b[49m\u001b[43m[\u001b[49m\u001b[38;5;241;43m3\u001b[39;49m\u001b[43m,\u001b[49m\u001b[38;5;241;43m2\u001b[39;49m\u001b[43m]\u001b[49m\u001b[43m,\u001b[49m\u001b[38;5;241;43m.4\u001b[39;49m\u001b[43m)\u001b[49m\n",
      "\u001b[1;31mTypeError\u001b[0m: interp() missing 1 required positional argument: 'fp'"
     ]
    }
   ],
   "source": [
    "import numpy as np\n",
    "np.interp([3,2],.4)"
   ]
  },
  {
   "cell_type": "code",
   "execution_count": null,
   "metadata": {},
   "outputs": [],
   "source": [
    "def lerp(start, end, t):\n",
    "    return start + t * (end - start)"
   ]
  },
  {
   "cell_type": "code",
   "execution_count": 23,
   "metadata": {},
   "outputs": [],
   "source": [
    "def lerp(a, b, t):\n",
    "    \"\"\"\n",
    "    A simple linear interpolation implementation. \n",
    "    Interpolates between a and b by t.\n",
    "    \"\"\"\n",
    "    return (b - a) * t + a"
   ]
  },
  {
   "cell_type": "code",
   "execution_count": 27,
   "metadata": {},
   "outputs": [
    {
     "data": {
      "text/plain": [
       "3.2"
      ]
     },
     "execution_count": 27,
     "metadata": {},
     "output_type": "execute_result"
    }
   ],
   "source": [
    "lerp(2, 5, .4)"
   ]
  },
  {
   "cell_type": "code",
   "execution_count": 74,
   "metadata": {},
   "outputs": [
    {
     "data": {
      "text/plain": [
       "0.02020608532451898"
      ]
     },
     "execution_count": 74,
     "metadata": {},
     "output_type": "execute_result"
    }
   ],
   "source": [
    "x = random.random()\n",
    "lerp(x, round(x), .9)"
   ]
  },
  {
   "cell_type": "code",
   "execution_count": null,
   "metadata": {},
   "outputs": [],
   "source": [
    "def random_blur():\n",
    "    \"\"\"\n",
    "    Returns a random number between 0 and 1 pulled to \n",
    "    \"\"\""
   ]
  },
  {
   "cell_type": "code",
   "execution_count": 5,
   "metadata": {},
   "outputs": [],
   "source": [
    "from enum import Enum"
   ]
  },
  {
   "cell_type": "code",
   "execution_count": 6,
   "metadata": {},
   "outputs": [],
   "source": [
    "class Swatch(Enum):\n",
    "    WHITE = 1\n",
    "    BLACK = 2\n",
    "    RED = 3\n",
    "    GREEN = 4\n",
    "    BLUE = 5\n",
    "    YELLOW = 6\n",
    "    CYAN = 7\n",
    "    MAGENTA = 8"
   ]
  },
  {
   "cell_type": "code",
   "execution_count": 7,
   "metadata": {},
   "outputs": [],
   "source": [
    "def sample_swatch(swatch:Swatch, blurriness=0):\n",
    "    \"\"\"\n",
    "    Samples a Swatch using the BGR colorspace.\n",
    "\n",
    "    Parameters\n",
    "    ---\n",
    "    swatch : Swatch\n",
    "        The swatch to sample from.\n",
    "    blurriness : float\n",
    "        A real number on the range [0, 1] which indicates how \"blurry\" a single value can be.\n",
    "        If 0, only 0's and 1's will be returned.\n",
    "        A higher blurriness value will allow values to be returned closer to 0.5.\n",
    "    \"\"\"\n",
    "    def sample_low():\n",
    "        return random.random() * blurriness * .5\n",
    "    def sample_high():\n",
    "        return 1-sample_low()\n",
    "    match swatch:\n",
    "        case Swatch.WHITE:\n",
    "            return (sample_high(), sample_high(), sample_high())\n",
    "        case Swatch.BLACK:\n",
    "            return (sample_low(), sample_low(), sample_low())\n",
    "        case Swatch.RED:\n",
    "            return (sample_low(), sample_low(), sample_high())\n",
    "        case Swatch.GREEN:\n",
    "            return (sample_low(), sample_high(), sample_low())\n",
    "        case Swatch.BLUE:\n",
    "            return (sample_high(), sample_low(), sample_low())\n",
    "        case Swatch.YELLOW:\n",
    "            return (sample_low(), sample_high(), sample_high())\n",
    "        case Swatch.CYAN:\n",
    "            return (sample_high(), sample_high(), sample_low())\n",
    "        case Swatch.MAGENTA:\n",
    "            return (sample_high(), sample_low(), sample_high())\n",
    "        case _:\n",
    "            raise ValueError(f\"Could not sample swatch '{swatch}'.\")"
   ]
  },
  {
   "cell_type": "code",
   "execution_count": 8,
   "metadata": {},
   "outputs": [
    {
     "data": {
      "text/plain": [
       "(0.4313116759856827, 0.03076021084778391, 0.6642806670473054)"
      ]
     },
     "execution_count": 8,
     "metadata": {},
     "output_type": "execute_result"
    }
   ],
   "source": [
    "sample_swatch(Swatch.RED, 1)"
   ]
  },
  {
   "cell_type": "code",
   "execution_count": 1,
   "metadata": {},
   "outputs": [],
   "source": [
    "import pygad"
   ]
  },
  {
   "cell_type": "code",
   "execution_count": null,
   "metadata": {},
   "outputs": [],
   "source": [
    "class GeneratorSampleMethod(Enum):\n",
    "    "
   ]
  },
  {
   "cell_type": "code",
   "execution_count": 59,
   "metadata": {},
   "outputs": [],
   "source": [
    "class SimpleColorGenerator():\n",
    "    def __init__(self, swatches:list, blur:float, fixed:bool, batch_size:int=None):\n",
    "        \"\"\"\n",
    "        Parameters\n",
    "        ---\n",
    "        swatches : list(Swatch)\n",
    "            The swatches to sample from.\n",
    "        blur : float\n",
    "            The blurriness value to sample with.\n",
    "        fixed : bool\n",
    "            If True, each batch will be consist of 1 sample per swatch.\n",
    "            If False, each batch will consist of 'batch_size' random samples from random swatches.\n",
    "        batch_size : int\n",
    "            How big a batch size should be.\n",
    "            Will be ignored if 'fixed' is set to True.\n",
    "        \"\"\"\n",
    "        self.swatches = swatches\n",
    "        self.blur = blur\n",
    "        self.fixed = fixed\n",
    "        self.batch_size = len(self.swatches) if batch_size is None else batch_size\n",
    "\n",
    "        self.new_batch()\n",
    "\n",
    "    def new_batch(self):\n",
    "        \"\"\"\n",
    "        Generates a random new batch.\n",
    "        \"\"\"\n",
    "        if self.fixed:\n",
    "            x = [x for x in self.swatches] # deepcopy.\n",
    "            random.shuffle(x)\n",
    "        else:\n",
    "            x = random.choices(self.swatches, k=self.batch_size)\n",
    "        self.current_batch = np.array([sample_swatch(y, self.blur) for y in x])\n",
    "        return self.current_batch\n",
    "\n",
    "    def __call__(self):\n",
    "        return self.current_batch"
   ]
  },
  {
   "cell_type": "code",
   "execution_count": 9,
   "metadata": {},
   "outputs": [],
   "source": [
    "import random"
   ]
  },
  {
   "cell_type": "code",
   "execution_count": 64,
   "metadata": {},
   "outputs": [
    {
     "data": {
      "text/plain": [
       "array([[0., 1., 0.],\n",
       "       [0., 0., 1.]])"
      ]
     },
     "execution_count": 64,
     "metadata": {},
     "output_type": "execute_result"
    }
   ],
   "source": [
    "gen = SimpleColorGenerator([Swatch.RED, Swatch.GREEN], 0, True, 4)\n",
    "gen()"
   ]
  },
  {
   "cell_type": "code",
   "execution_count": 67,
   "metadata": {},
   "outputs": [
    {
     "data": {
      "text/plain": [
       "[<Swatch.GREEN: 4>, <Swatch.BLUE: 5>]"
      ]
     },
     "execution_count": 67,
     "metadata": {},
     "output_type": "execute_result"
    }
   ],
   "source": [
    "random.choices([Swatch.RED, Swatch.GREEN, Swatch.BLUE], k=2)"
   ]
  },
  {
   "cell_type": "code",
   "execution_count": 74,
   "metadata": {},
   "outputs": [
    {
     "ename": "AttributeError",
     "evalue": "'LanguageTokenSet' object has no attribute 'encoder'",
     "output_type": "error",
     "traceback": [
      "\u001b[1;31m---------------------------------------------------------------------------\u001b[0m",
      "\u001b[1;31mAttributeError\u001b[0m                            Traceback (most recent call last)",
      "Cell \u001b[1;32mIn[74], line 44\u001b[0m\n\u001b[0;32m     40\u001b[0m     \u001b[38;5;66;03m#def _fitness(self, ga_instance, solution, sol_idx):\u001b[39;00m\n\u001b[0;32m     41\u001b[0m     \u001b[38;5;66;03m#    pred = pygad.kerasga.predict(model=self.model, solution=solution, data=)\u001b[39;00m\n\u001b[0;32m     43\u001b[0m token_set \u001b[38;5;241m=\u001b[39m cgael\u001b[38;5;241m.\u001b[39mLanguageTokenSet(\u001b[38;5;124m\"\u001b[39m\u001b[38;5;124mXO\u001b[39m\u001b[38;5;124m\"\u001b[39m, \u001b[38;5;124m'\u001b[39m\u001b[38;5;124m-\u001b[39m\u001b[38;5;124m'\u001b[39m)\n\u001b[1;32m---> 44\u001b[0m model \u001b[38;5;241m=\u001b[39m \u001b[43mSimpleColorModel\u001b[49m\u001b[43m(\u001b[49m\u001b[43mtoken_set\u001b[49m\u001b[38;5;241;43m=\u001b[39;49m\u001b[43mtoken_set\u001b[49m\u001b[43m,\u001b[49m\u001b[43m \u001b[49m\u001b[43mword_count\u001b[49m\u001b[38;5;241;43m=\u001b[39;49m\u001b[38;5;241;43m1\u001b[39;49m\u001b[43m,\u001b[49m\u001b[43m \u001b[49m\u001b[43mword_length\u001b[49m\u001b[38;5;241;43m=\u001b[39;49m\u001b[38;5;241;43m3\u001b[39;49m\u001b[43m,\u001b[49m\u001b[43m \u001b[49m\u001b[43mcolor_count\u001b[49m\u001b[38;5;241;43m=\u001b[39;49m\u001b[38;5;241;43m1\u001b[39;49m\u001b[43m,\u001b[49m\u001b[43m \u001b[49m\u001b[43mcolor_channels\u001b[49m\u001b[38;5;241;43m=\u001b[39;49m\u001b[38;5;241;43m3\u001b[39;49m\u001b[43m,\u001b[49m\u001b[43m \u001b[49m\u001b[43mlistener_embedding_size\u001b[49m\u001b[38;5;241;43m=\u001b[39;49m\u001b[38;5;241;43m4\u001b[39;49m\u001b[43m)\u001b[49m\n\u001b[0;32m     45\u001b[0m model\u001b[38;5;241m.\u001b[39mmodel\u001b[38;5;241m.\u001b[39msummary()\n",
      "Cell \u001b[1;32mIn[74], line 9\u001b[0m, in \u001b[0;36mSimpleColorModel.__init__\u001b[1;34m(self, token_set, word_count, word_length, color_count, color_channels, listener_embedding_size)\u001b[0m\n\u001b[0;32m      6\u001b[0m \u001b[38;5;28mself\u001b[39m\u001b[38;5;241m.\u001b[39mcolor_count \u001b[38;5;241m=\u001b[39m color_count\n\u001b[0;32m      7\u001b[0m \u001b[38;5;28mself\u001b[39m\u001b[38;5;241m.\u001b[39mcolor_channels \u001b[38;5;241m=\u001b[39m color_channels\n\u001b[1;32m----> 9\u001b[0m \u001b[38;5;28mself\u001b[39m\u001b[38;5;241m.\u001b[39mspeaker \u001b[38;5;241m=\u001b[39m \u001b[38;5;28;43mself\u001b[39;49m\u001b[38;5;241;43m.\u001b[39;49m\u001b[43m_build_speaker\u001b[49m\u001b[43m(\u001b[49m\u001b[43m)\u001b[49m\n\u001b[0;32m     10\u001b[0m \u001b[38;5;28mself\u001b[39m\u001b[38;5;241m.\u001b[39mlistener \u001b[38;5;241m=\u001b[39m \u001b[38;5;28mself\u001b[39m\u001b[38;5;241m.\u001b[39m_build_listener(listener_embedding_size)\n\u001b[0;32m     11\u001b[0m \u001b[38;5;28mself\u001b[39m\u001b[38;5;241m.\u001b[39mmodel \u001b[38;5;241m=\u001b[39m \u001b[38;5;28mself\u001b[39m\u001b[38;5;241m.\u001b[39m_build_model(\u001b[38;5;28mself\u001b[39m\u001b[38;5;241m.\u001b[39mspeaker, \u001b[38;5;28mself\u001b[39m\u001b[38;5;241m.\u001b[39mlistener)\n",
      "Cell \u001b[1;32mIn[74], line 16\u001b[0m, in \u001b[0;36mSimpleColorModel._build_speaker\u001b[1;34m(self)\u001b[0m\n\u001b[0;32m     14\u001b[0m x \u001b[38;5;241m=\u001b[39m y \u001b[38;5;241m=\u001b[39m layer\u001b[38;5;241m.\u001b[39mInput((\u001b[38;5;28mself\u001b[39m\u001b[38;5;241m.\u001b[39mcolor_count, \u001b[38;5;28mself\u001b[39m\u001b[38;5;241m.\u001b[39mcolor_channels))\n\u001b[0;32m     15\u001b[0m y \u001b[38;5;241m=\u001b[39m layer\u001b[38;5;241m.\u001b[39mFlatten()(y)\n\u001b[1;32m---> 16\u001b[0m y \u001b[38;5;241m=\u001b[39m layer\u001b[38;5;241m.\u001b[39mDense(\u001b[38;5;28mself\u001b[39m\u001b[38;5;241m.\u001b[39mword_count \u001b[38;5;241m*\u001b[39m \u001b[38;5;28mself\u001b[39m\u001b[38;5;241m.\u001b[39mword_length \u001b[38;5;241m*\u001b[39m \u001b[38;5;28;43mself\u001b[39;49m\u001b[38;5;241;43m.\u001b[39;49m\u001b[43mtoken_set\u001b[49m\u001b[38;5;241;43m.\u001b[39;49m\u001b[43mtoken_count\u001b[49m, activation\u001b[38;5;241m=\u001b[39m\u001b[38;5;124m\"\u001b[39m\u001b[38;5;124msigmoid\u001b[39m\u001b[38;5;124m\"\u001b[39m)(y)\n\u001b[0;32m     17\u001b[0m y \u001b[38;5;241m=\u001b[39m layer\u001b[38;5;241m.\u001b[39mReshape((\u001b[38;5;28mself\u001b[39m\u001b[38;5;241m.\u001b[39mword_count, \u001b[38;5;28mself\u001b[39m\u001b[38;5;241m.\u001b[39mword_length, \u001b[38;5;28mself\u001b[39m\u001b[38;5;241m.\u001b[39mtoken_set\u001b[38;5;241m.\u001b[39mtoken_count))(y)\n\u001b[0;32m     19\u001b[0m y \u001b[38;5;241m=\u001b[39m cgael\u001b[38;5;241m.\u001b[39mlayers\u001b[38;5;241m.\u001b[39mArgmaxLayer()(y)\n",
      "File \u001b[1;32mc:\\Users\\nicho\\PyProjects\\CGAEL\\cgael\\LanguageTokenSet.py:54\u001b[0m, in \u001b[0;36mLanguageTokenSet.token_count\u001b[1;34m(self)\u001b[0m\n\u001b[0;32m     49\u001b[0m \u001b[38;5;129m@property\u001b[39m\n\u001b[0;32m     50\u001b[0m \u001b[38;5;28;01mdef\u001b[39;00m \u001b[38;5;21mtoken_count\u001b[39m(\u001b[38;5;28mself\u001b[39m):\n\u001b[0;32m     51\u001b[0m \u001b[38;5;250m    \u001b[39m\u001b[38;5;124;03m\"\"\"\u001b[39;00m\n\u001b[0;32m     52\u001b[0m \u001b[38;5;124;03m    The number of tokens in the language, including the pad token.\u001b[39;00m\n\u001b[0;32m     53\u001b[0m \u001b[38;5;124;03m    \"\"\"\u001b[39;00m\n\u001b[1;32m---> 54\u001b[0m     \u001b[38;5;28;01mreturn\u001b[39;00m \u001b[38;5;28;43mself\u001b[39;49m\u001b[38;5;241;43m.\u001b[39;49m\u001b[43mencoder\u001b[49m\u001b[38;5;241m.\u001b[39mvocabulary_size()\n",
      "\u001b[1;31mAttributeError\u001b[0m: 'LanguageTokenSet' object has no attribute 'encoder'"
     ]
    }
   ],
   "source": [
    "class SimpleColorModel():\n",
    "    def __init__(self, token_set:cgael.LanguageTokenSet, word_count:int, word_length:int, color_count:int=1, color_channels:int=3, listener_embedding_size:int=4):\n",
    "        self.token_set = token_set\n",
    "        self.word_count = word_count\n",
    "        self.word_length = word_length\n",
    "        self.color_count = color_count\n",
    "        self.color_channels = color_channels\n",
    "\n",
    "        self.speaker = self._build_speaker()\n",
    "        self.listener = self._build_listener(listener_embedding_size)\n",
    "        self.model = self._build_model(self.speaker, self.listener)\n",
    "\n",
    "    def _build_speaker(self):\n",
    "        x = y = layer.Input((self.color_count, self.color_channels))\n",
    "        y = layer.Flatten()(y)\n",
    "        y = layer.Dense(self.word_count * self.word_length * self.token_set.token_count, activation=\"sigmoid\")(y)\n",
    "        y = layer.Reshape((self.word_count, self.word_length, self.token_set.token_count))(y)\n",
    "\n",
    "        y = cgael.layers.ArgmaxLayer()(y)\n",
    "        y = cgael.layers.LanguageDenoiseLayer()(y)\n",
    "        \n",
    "        return keras.Model(x, y)\n",
    "    \n",
    "    def _build_listener(self, embedding_size):\n",
    "        x = y = layer.Input((self.word_count, self.word_length))\n",
    "        y = layer.Embedding(self.token_set.token_count, embedding_size, embeddings_initializer=\"random_normal\")(y)\n",
    "        y = layer.Flatten()(y)\n",
    "        y = layer.Dense((self.color_count * self.color_channels), activation=\"sigmoid\")(y)\n",
    "        y = layer.Reshape((self.color_count, self.color_channels))(y)\n",
    "\n",
    "        return keras.Model(x, y)\n",
    "    \n",
    "    def _build_model(self, speaker, listener):\n",
    "        x = y = layer.Input((self.color_count, self.color_channels))\n",
    "        y = z = speaker(y)\n",
    "        y = listener(y)\n",
    "        \n",
    "        return keras.Model(x, [z, y])\n",
    "    \n",
    "    #def _fitness(self, ga_instance, solution, sol_idx):\n",
    "    #    pred = pygad.kerasga.predict(model=self.model, solution=solution, data=)\n",
    "\n",
    "token_set = cgael.LanguageTokenSet(\"XO\", '-')\n",
    "model = SimpleColorModel(token_set=token_set, word_count=1, word_length=3, color_count=1, color_channels=3, listener_embedding_size=4)\n",
    "model.model.summary()"
   ]
  }
 ],
 "metadata": {
  "kernelspec": {
   "display_name": "Python 3",
   "language": "python",
   "name": "python3"
  },
  "language_info": {
   "codemirror_mode": {
    "name": "ipython",
    "version": 3
   },
   "file_extension": ".py",
   "mimetype": "text/x-python",
   "name": "python",
   "nbconvert_exporter": "python",
   "pygments_lexer": "ipython3",
   "version": "3.11.5"
  }
 },
 "nbformat": 4,
 "nbformat_minor": 2
}
