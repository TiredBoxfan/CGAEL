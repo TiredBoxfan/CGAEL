{
 "cells": [
  {
   "cell_type": "code",
   "execution_count": 2,
   "metadata": {},
   "outputs": [],
   "source": [
    "import sys, os\n",
    "sys.path.append(os.path.abspath('..'))"
   ]
  },
  {
   "cell_type": "code",
   "execution_count": 5,
   "metadata": {},
   "outputs": [],
   "source": [
    "import tensorflow as tf\n",
    "import tensorflow.keras as keras\n",
    "import tensorflow.keras.layers as layer\n",
    "\n",
    "import numpy as np"
   ]
  },
  {
   "cell_type": "code",
   "execution_count": null,
   "metadata": {},
   "outputs": [],
   "source": [
    "import cgael"
   ]
  },
  {
   "cell_type": "code",
   "execution_count": 11,
   "metadata": {},
   "outputs": [
    {
     "name": "stdout",
     "output_type": "stream",
     "text": [
      "Encoded: tf.Tensor(\n",
      "[[1 3 4 1 2]\n",
      " [4 2 3 4 0]\n",
      " [1 3 4 0 0]], shape=(3, 5), dtype=int64)\n",
      "Denoised: tf.Tensor(\n",
      "[[1 3 4 1 2]\n",
      " [4 2 3 4 0]\n",
      " [1 3 4 0 0]], shape=(3, 5), dtype=int64)\n",
      "Decoded: CATCH THAT CAT\n"
     ]
    }
   ],
   "source": [
    "chat = cgael.LanguageTokenSet(\"CHAT\", '-')\n",
    "denoise = cgael.LanguageDenoiseLayer()\n",
    "\n",
    "a = chat.encode(\"CATCH THAT CAT\", (3,5))\n",
    "print(\"Encoded:\", a)\n",
    "\n",
    "b = denoise(a)\n",
    "print(\"Denoised:\", b)\n",
    "\n",
    "c = chat.decode(b)\n",
    "print(\"Decoded:\", c)"
   ]
  }
 ],
 "metadata": {
  "kernelspec": {
   "display_name": "Python 3",
   "language": "python",
   "name": "python3"
  },
  "language_info": {
   "codemirror_mode": {
    "name": "ipython",
    "version": 3
   },
   "file_extension": ".py",
   "mimetype": "text/x-python",
   "name": "python",
   "nbconvert_exporter": "python",
   "pygments_lexer": "ipython3",
   "version": "3.11.5"
  }
 },
 "nbformat": 4,
 "nbformat_minor": 2
}
