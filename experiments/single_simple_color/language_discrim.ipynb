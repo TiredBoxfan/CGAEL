{
 "cells": [
  {
   "cell_type": "markdown",
   "metadata": {},
   "source": [
    "# Imports"
   ]
  },
  {
   "cell_type": "code",
   "execution_count": 1,
   "metadata": {},
   "outputs": [],
   "source": [
    "# Append location to path to allow custom modules to be used.\n",
    "import sys, os\n",
    "sys.path.append(os.path.abspath(os.path.join(\"..\", \"..\")))"
   ]
  },
  {
   "cell_type": "code",
   "execution_count": 13,
   "metadata": {},
   "outputs": [],
   "source": [
    "import cgael\n",
    "from cgael.models.extras.LanguageDiscriminator import *\n",
    "from cgael.metrics import brevity\n",
    "\n",
    "import tensorflow as tf\n",
    "import tensorflow.keras as keras\n",
    "import tensorflow.keras.layers as layer\n",
    "\n",
    "import pygad\n",
    "import pygad.kerasga\n",
    "\n",
    "import numpy as np\n",
    "import pandas as pd\n",
    "\n",
    "from PIL import Image\n",
    "\n",
    "from matplotlib import pyplot as plt"
   ]
  },
  {
   "cell_type": "markdown",
   "metadata": {},
   "source": [
    "# Set Up"
   ]
  },
  {
   "cell_type": "code",
   "execution_count": 25,
   "metadata": {},
   "outputs": [],
   "source": [
    "root_folder = os.path.join(\"C:\",os.sep,\"Users\",\"nicho\",\"PyProjects\",\"CGAEL_Results\")\n",
    "experiment_folder = \"discriminator\"\n",
    "experiment_prefix = \"eng_L10\""
   ]
  },
  {
   "cell_type": "code",
   "execution_count": 26,
   "metadata": {},
   "outputs": [],
   "source": [
    "os.makedirs(os.path.join(root_folder, experiment_folder), exist_ok=True)"
   ]
  },
  {
   "cell_type": "code",
   "execution_count": 27,
   "metadata": {},
   "outputs": [
    {
     "name": "stdout",
     "output_type": "stream",
     "text": [
      "C:\\Users\\nicho\\PyProjects\\CGAEL_Results\\discriminator\\eng_L10_1.npy\n"
     ]
    }
   ],
   "source": [
    "ID_FORMAT = \"{experiment_prefix}_{i}\"\n",
    "\n",
    "i = 1\n",
    "while os.path.exists(os.path.join(root_folder, experiment_folder, f\"{ID_FORMAT.format(experiment_prefix=experiment_prefix, i=i)}.npy\")):\n",
    "    i += 1\n",
    "    \n",
    "experiment_id = ID_FORMAT.format(experiment_prefix=experiment_prefix, i=i)\n",
    "filename = f\"{experiment_id}.npy\"\n",
    "filepath = os.path.join(root_folder, experiment_folder, filename)\n",
    "print(filepath)"
   ]
  },
  {
   "cell_type": "markdown",
   "metadata": {},
   "source": [
    "# Training"
   ]
  },
  {
   "cell_type": "code",
   "execution_count": 6,
   "metadata": {},
   "outputs": [
    {
     "name": "stdout",
     "output_type": "stream",
     "text": [
      "WARNING:tensorflow:From c:\\Users\\nicho\\PyProjects\\CGAEL\\.conda\\Lib\\site-packages\\keras\\src\\backend.py:873: The name tf.get_default_graph is deprecated. Please use tf.compat.v1.get_default_graph instead.\n",
      "\n"
     ]
    }
   ],
   "source": [
    "ts = cgael.LanguageTokenSet(\"CHAT\", '-')"
   ]
  },
  {
   "cell_type": "code",
   "execution_count": 7,
   "metadata": {},
   "outputs": [],
   "source": [
    "encode_length = 10"
   ]
  },
  {
   "cell_type": "code",
   "execution_count": 8,
   "metadata": {},
   "outputs": [],
   "source": [
    "english_words = set([\n",
    "    \"A\", \n",
    "    \"AT\", \"HA\", \n",
    "    \"ACT\", \"CAT\", \"HAT\", \n",
    "    \"CHAT\", \"TACT\", \"THAT\", \n",
    "    \"CATCH\", \"HATCH\"\n",
    "])"
   ]
  },
  {
   "cell_type": "code",
   "execution_count": 9,
   "metadata": {},
   "outputs": [],
   "source": [
    "gen = LanguageDiscriminatorGenerator(\n",
    "    tokens=ts, \n",
    "    real_words=english_words, \n",
    "    encode_length=encode_length, \n",
    "    batch_size=16, \n",
    "    batch_count=100\n",
    ")"
   ]
  },
  {
   "cell_type": "code",
   "execution_count": 10,
   "metadata": {},
   "outputs": [
    {
     "name": "stdout",
     "output_type": "stream",
     "text": [
      "WARNING:tensorflow:From c:\\Users\\nicho\\PyProjects\\CGAEL\\.conda\\Lib\\site-packages\\keras\\src\\utils\\tf_utils.py:492: The name tf.ragged.RaggedTensorValue is deprecated. Please use tf.compat.v1.ragged.RaggedTensorValue instead.\n",
      "\n",
      "Epoch 1/100\n",
      "WARNING:tensorflow:From c:\\Users\\nicho\\PyProjects\\CGAEL\\.conda\\Lib\\site-packages\\keras\\src\\engine\\base_layer_utils.py:384: The name tf.executing_eagerly_outside_functions is deprecated. Please use tf.compat.v1.executing_eagerly_outside_functions instead.\n",
      "\n",
      "100/100 [==============================] - 2s 6ms/step - loss: 0.6025 - accuracy: 0.7256\n",
      "Epoch 2/100\n",
      "100/100 [==============================] - 1s 6ms/step - loss: 0.4486 - accuracy: 0.7763\n",
      "Epoch 3/100\n",
      "100/100 [==============================] - 1s 7ms/step - loss: 0.3800 - accuracy: 0.8300\n",
      "Epoch 4/100\n",
      "100/100 [==============================] - 1s 6ms/step - loss: 0.3417 - accuracy: 0.8550\n",
      "Epoch 5/100\n",
      "100/100 [==============================] - 1s 7ms/step - loss: 0.3203 - accuracy: 0.8594\n",
      "Epoch 6/100\n",
      "100/100 [==============================] - 1s 9ms/step - loss: 0.3210 - accuracy: 0.8500\n",
      "Epoch 7/100\n",
      "100/100 [==============================] - 1s 9ms/step - loss: 0.2828 - accuracy: 0.8737\n",
      "Epoch 8/100\n",
      "100/100 [==============================] - 1s 8ms/step - loss: 0.2945 - accuracy: 0.8662\n",
      "Epoch 9/100\n",
      "100/100 [==============================] - 1s 9ms/step - loss: 0.2954 - accuracy: 0.8631\n",
      "Epoch 10/100\n",
      "100/100 [==============================] - 1s 9ms/step - loss: 0.2733 - accuracy: 0.8800\n",
      "Epoch 11/100\n",
      "100/100 [==============================] - 1s 8ms/step - loss: 0.2639 - accuracy: 0.8794\n",
      "Epoch 12/100\n",
      "100/100 [==============================] - 1s 9ms/step - loss: 0.2753 - accuracy: 0.8944\n",
      "Epoch 13/100\n",
      "100/100 [==============================] - 1s 9ms/step - loss: 0.2627 - accuracy: 0.8794\n",
      "Epoch 14/100\n",
      "100/100 [==============================] - 1s 9ms/step - loss: 0.2400 - accuracy: 0.8900\n",
      "Epoch 15/100\n",
      "100/100 [==============================] - 1s 9ms/step - loss: 0.2299 - accuracy: 0.8800\n",
      "Epoch 16/100\n",
      "100/100 [==============================] - 1s 9ms/step - loss: 0.2478 - accuracy: 0.8856\n",
      "Epoch 17/100\n",
      "100/100 [==============================] - 1s 9ms/step - loss: 0.2269 - accuracy: 0.8894\n",
      "Epoch 18/100\n",
      "100/100 [==============================] - 1s 10ms/step - loss: 0.2218 - accuracy: 0.9081\n",
      "Epoch 19/100\n",
      "100/100 [==============================] - 1s 8ms/step - loss: 0.2066 - accuracy: 0.9094\n",
      "Epoch 20/100\n",
      "100/100 [==============================] - 1s 8ms/step - loss: 0.1952 - accuracy: 0.9212\n",
      "Epoch 21/100\n",
      "100/100 [==============================] - 1s 8ms/step - loss: 0.1917 - accuracy: 0.9231\n",
      "Epoch 22/100\n",
      "100/100 [==============================] - 1s 8ms/step - loss: 0.1846 - accuracy: 0.9094\n",
      "Epoch 23/100\n",
      "100/100 [==============================] - 1s 8ms/step - loss: 0.2000 - accuracy: 0.9175\n",
      "Epoch 24/100\n",
      "100/100 [==============================] - 1s 9ms/step - loss: 0.1879 - accuracy: 0.9181\n",
      "Epoch 25/100\n",
      "100/100 [==============================] - 1s 8ms/step - loss: 0.1907 - accuracy: 0.9425\n",
      "Epoch 26/100\n",
      "100/100 [==============================] - 1s 8ms/step - loss: 0.1676 - accuracy: 0.9544\n",
      "Epoch 27/100\n",
      "100/100 [==============================] - 1s 8ms/step - loss: 0.1734 - accuracy: 0.9431\n",
      "Epoch 28/100\n",
      "100/100 [==============================] - 1s 8ms/step - loss: 0.1635 - accuracy: 0.9513\n",
      "Epoch 29/100\n",
      "100/100 [==============================] - 1s 8ms/step - loss: 0.1562 - accuracy: 0.9494\n",
      "Epoch 30/100\n",
      "100/100 [==============================] - 1s 8ms/step - loss: 0.1642 - accuracy: 0.9544\n",
      "Epoch 31/100\n",
      "100/100 [==============================] - 1s 8ms/step - loss: 0.1523 - accuracy: 0.9513\n",
      "Epoch 32/100\n",
      "100/100 [==============================] - 1s 9ms/step - loss: 0.1515 - accuracy: 0.9563\n",
      "Epoch 33/100\n",
      "100/100 [==============================] - 1s 8ms/step - loss: 0.1653 - accuracy: 0.9431\n",
      "Epoch 34/100\n",
      "100/100 [==============================] - 1s 8ms/step - loss: 0.1579 - accuracy: 0.9506\n",
      "Epoch 35/100\n",
      "100/100 [==============================] - 1s 8ms/step - loss: 0.1506 - accuracy: 0.9556\n",
      "Epoch 36/100\n",
      "100/100 [==============================] - 1s 9ms/step - loss: 0.1561 - accuracy: 0.9519\n",
      "Epoch 37/100\n",
      "100/100 [==============================] - 1s 9ms/step - loss: 0.1444 - accuracy: 0.9531\n",
      "Epoch 38/100\n",
      "100/100 [==============================] - 1s 8ms/step - loss: 0.1387 - accuracy: 0.9563\n",
      "Epoch 39/100\n",
      "100/100 [==============================] - 1s 9ms/step - loss: 0.1409 - accuracy: 0.9506\n",
      "Epoch 40/100\n",
      "100/100 [==============================] - 1s 8ms/step - loss: 0.1220 - accuracy: 0.9600\n",
      "Epoch 41/100\n",
      "100/100 [==============================] - 1s 8ms/step - loss: 0.1454 - accuracy: 0.9544\n",
      "Epoch 42/100\n",
      "100/100 [==============================] - 1s 8ms/step - loss: 0.1328 - accuracy: 0.9544\n",
      "Epoch 43/100\n",
      "100/100 [==============================] - 1s 8ms/step - loss: 0.1137 - accuracy: 0.9644\n",
      "Epoch 44/100\n",
      "100/100 [==============================] - 1s 8ms/step - loss: 0.1184 - accuracy: 0.9588\n",
      "Epoch 45/100\n",
      "100/100 [==============================] - 1s 8ms/step - loss: 0.1334 - accuracy: 0.9563\n",
      "Epoch 46/100\n",
      "100/100 [==============================] - 1s 8ms/step - loss: 0.1193 - accuracy: 0.9581\n",
      "Epoch 47/100\n",
      "100/100 [==============================] - 1s 9ms/step - loss: 0.1147 - accuracy: 0.9594\n",
      "Epoch 48/100\n",
      "100/100 [==============================] - 1s 8ms/step - loss: 0.1027 - accuracy: 0.9706\n",
      "Epoch 49/100\n",
      "100/100 [==============================] - 1s 8ms/step - loss: 0.1180 - accuracy: 0.9581\n",
      "Epoch 50/100\n",
      "100/100 [==============================] - 1s 8ms/step - loss: 0.1104 - accuracy: 0.9669\n",
      "Epoch 51/100\n",
      "100/100 [==============================] - 1s 8ms/step - loss: 0.1023 - accuracy: 0.9644\n",
      "Epoch 52/100\n",
      "100/100 [==============================] - 1s 8ms/step - loss: 0.1086 - accuracy: 0.9656\n",
      "Epoch 53/100\n",
      "100/100 [==============================] - 1s 8ms/step - loss: 0.1034 - accuracy: 0.9706\n",
      "Epoch 54/100\n",
      "100/100 [==============================] - 1s 8ms/step - loss: 0.0969 - accuracy: 0.9712\n",
      "Epoch 55/100\n",
      "100/100 [==============================] - 1s 9ms/step - loss: 0.0973 - accuracy: 0.9656\n",
      "Epoch 56/100\n",
      "100/100 [==============================] - 1s 8ms/step - loss: 0.0816 - accuracy: 0.9800\n",
      "Epoch 57/100\n",
      "100/100 [==============================] - 1s 8ms/step - loss: 0.0984 - accuracy: 0.9712\n",
      "Epoch 58/100\n",
      "100/100 [==============================] - 1s 8ms/step - loss: 0.0874 - accuracy: 0.9731\n",
      "Epoch 59/100\n",
      "100/100 [==============================] - 1s 8ms/step - loss: 0.0952 - accuracy: 0.9806\n",
      "Epoch 60/100\n",
      "100/100 [==============================] - 1s 8ms/step - loss: 0.0845 - accuracy: 0.9731\n",
      "Epoch 61/100\n",
      "100/100 [==============================] - 1s 8ms/step - loss: 0.0778 - accuracy: 0.9800\n",
      "Epoch 62/100\n",
      "100/100 [==============================] - 1s 8ms/step - loss: 0.0769 - accuracy: 0.9819\n",
      "Epoch 63/100\n",
      "100/100 [==============================] - 1s 8ms/step - loss: 0.0910 - accuracy: 0.9775\n",
      "Epoch 64/100\n",
      "100/100 [==============================] - 1s 8ms/step - loss: 0.0938 - accuracy: 0.9750\n",
      "Epoch 65/100\n",
      "100/100 [==============================] - 1s 9ms/step - loss: 0.0682 - accuracy: 0.9912\n",
      "Epoch 66/100\n",
      "100/100 [==============================] - 1s 8ms/step - loss: 0.0765 - accuracy: 0.9850\n",
      "Epoch 67/100\n",
      "100/100 [==============================] - 1s 8ms/step - loss: 0.0636 - accuracy: 0.9906\n",
      "Epoch 68/100\n",
      "100/100 [==============================] - 1s 8ms/step - loss: 0.0688 - accuracy: 0.9875\n",
      "Epoch 69/100\n",
      "100/100 [==============================] - 1s 9ms/step - loss: 0.0718 - accuracy: 0.9837\n",
      "Epoch 70/100\n",
      "100/100 [==============================] - 1s 8ms/step - loss: 0.0618 - accuracy: 0.9869\n",
      "Epoch 71/100\n",
      "100/100 [==============================] - 1s 8ms/step - loss: 0.0690 - accuracy: 0.9844\n",
      "Epoch 72/100\n",
      "100/100 [==============================] - 1s 8ms/step - loss: 0.0576 - accuracy: 0.9900\n",
      "Epoch 73/100\n",
      "100/100 [==============================] - 1s 8ms/step - loss: 0.0588 - accuracy: 0.9881\n",
      "Epoch 74/100\n",
      "100/100 [==============================] - 1s 8ms/step - loss: 0.0534 - accuracy: 0.9906\n",
      "Epoch 75/100\n",
      "100/100 [==============================] - 1s 9ms/step - loss: 0.0625 - accuracy: 0.9875\n",
      "Epoch 76/100\n",
      "100/100 [==============================] - 1s 8ms/step - loss: 0.0513 - accuracy: 0.9900\n",
      "Epoch 77/100\n",
      "100/100 [==============================] - 1s 8ms/step - loss: 0.0522 - accuracy: 0.9894\n",
      "Epoch 78/100\n",
      "100/100 [==============================] - 1s 8ms/step - loss: 0.0504 - accuracy: 0.9894\n",
      "Epoch 79/100\n",
      "100/100 [==============================] - 1s 8ms/step - loss: 0.0472 - accuracy: 0.9894\n",
      "Epoch 80/100\n",
      "100/100 [==============================] - 1s 8ms/step - loss: 0.0475 - accuracy: 0.9912\n",
      "Epoch 81/100\n",
      "100/100 [==============================] - 1s 8ms/step - loss: 0.0443 - accuracy: 0.9894\n",
      "Epoch 82/100\n",
      "100/100 [==============================] - 1s 8ms/step - loss: 0.0580 - accuracy: 0.9875\n",
      "Epoch 83/100\n",
      "100/100 [==============================] - 1s 8ms/step - loss: 0.0509 - accuracy: 0.9894\n",
      "Epoch 84/100\n",
      "100/100 [==============================] - 1s 8ms/step - loss: 0.0408 - accuracy: 0.9919\n",
      "Epoch 85/100\n",
      "100/100 [==============================] - 1s 8ms/step - loss: 0.0411 - accuracy: 0.9912\n",
      "Epoch 86/100\n",
      "100/100 [==============================] - 1s 8ms/step - loss: 0.0447 - accuracy: 0.9894\n",
      "Epoch 87/100\n",
      "100/100 [==============================] - 1s 9ms/step - loss: 0.0381 - accuracy: 0.9919\n",
      "Epoch 88/100\n",
      "100/100 [==============================] - 1s 9ms/step - loss: 0.0474 - accuracy: 0.9887\n",
      "Epoch 89/100\n",
      "100/100 [==============================] - 1s 8ms/step - loss: 0.0441 - accuracy: 0.9906\n",
      "Epoch 90/100\n",
      "100/100 [==============================] - 1s 8ms/step - loss: 0.0400 - accuracy: 0.9925\n",
      "Epoch 91/100\n",
      "100/100 [==============================] - 1s 8ms/step - loss: 0.0383 - accuracy: 0.9925\n",
      "Epoch 92/100\n",
      "100/100 [==============================] - 1s 8ms/step - loss: 0.0346 - accuracy: 0.9931\n",
      "Epoch 93/100\n",
      "100/100 [==============================] - 1s 8ms/step - loss: 0.0461 - accuracy: 0.9887\n",
      "Epoch 94/100\n",
      "100/100 [==============================] - 1s 9ms/step - loss: 0.0434 - accuracy: 0.9919\n",
      "Epoch 95/100\n",
      "100/100 [==============================] - 1s 8ms/step - loss: 0.0334 - accuracy: 0.9919\n",
      "Epoch 96/100\n",
      "100/100 [==============================] - 1s 8ms/step - loss: 0.0325 - accuracy: 0.9925\n",
      "Epoch 97/100\n",
      "100/100 [==============================] - 1s 8ms/step - loss: 0.0337 - accuracy: 0.9912\n",
      "Epoch 98/100\n",
      "100/100 [==============================] - 1s 9ms/step - loss: 0.0398 - accuracy: 0.9881\n",
      "Epoch 99/100\n",
      "100/100 [==============================] - 1s 8ms/step - loss: 0.0383 - accuracy: 0.9906\n",
      "Epoch 100/100\n",
      "100/100 [==============================] - 1s 8ms/step - loss: 0.0334 - accuracy: 0.9950\n"
     ]
    }
   ],
   "source": [
    "discrim = LanguageDiscriminatorModel(word_length=encode_length)\n",
    "history = discrim.train(gen, epochs=100)"
   ]
  },
  {
   "cell_type": "code",
   "execution_count": 28,
   "metadata": {},
   "outputs": [],
   "source": [
    "np.save(filepath, np.array(discrim.model.get_weights(), dtype=\"object\"))"
   ]
  },
  {
   "cell_type": "markdown",
   "metadata": {},
   "source": [
    "# Evaluation"
   ]
  },
  {
   "cell_type": "code",
   "execution_count": 31,
   "metadata": {},
   "outputs": [
    {
     "data": {
      "image/png": "[encoded data removed]",
      "text/plain": [
       "<Figure size 640x480 with 1 Axes>"
      ]
     },
     "metadata": {},
     "output_type": "display_data"
    }
   ],
   "source": [
    "plt.plot(history.history[\"loss\"])\n",
    "plt.title(f\"{experiment_id} Loss\")\n",
    "plt.xlabel(\"Generation\")\n",
    "plt.ylabel(\"Loss\")\n",
    "plt.savefig(os.path.join(root_folder, experiment_folder, f\"{experiment_id}_loss.png\"))\n",
    "plt.show()"
   ]
  },
  {
   "cell_type": "code",
   "execution_count": 32,
   "metadata": {},
   "outputs": [
    {
     "data": {
      "image/png": "[encoded data removed]",
      "text/plain": [
       "<Figure size 640x480 with 1 Axes>"
      ]
     },
     "metadata": {},
     "output_type": "display_data"
    }
   ],
   "source": [
    "plt.plot(history.history[\"accuracy\"])\n",
    "plt.title(f\"{experiment_id} Accuracy\")\n",
    "plt.xlabel(\"Generation\")\n",
    "plt.ylabel(\"Accuracy\")\n",
    "plt.savefig(os.path.join(root_folder, experiment_folder, f\"{experiment_id}_accuracy.png\"))\n",
    "plt.show()"
   ]
  }
 ],
 "metadata": {
  "kernelspec": {
   "display_name": "Python 3",
   "language": "python",
   "name": "python3"
  },
  "language_info": {
   "codemirror_mode": {
    "name": "ipython",
    "version": 3
   },
   "file_extension": ".py",
   "mimetype": "text/x-python",
   "name": "python",
   "nbconvert_exporter": "python",
   "pygments_lexer": "ipython3",
   "version": "3.11.5"
  }
 },
 "nbformat": 4,
 "nbformat_minor": 2
}
