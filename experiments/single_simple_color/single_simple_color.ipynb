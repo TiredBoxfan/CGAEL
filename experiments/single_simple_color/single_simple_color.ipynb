{
 "cells": [
  {
   "cell_type": "markdown",
   "metadata": {},
   "source": [
    "# Imports"
   ]
  },
  {
   "cell_type": "code",
   "execution_count": 1,
   "metadata": {},
   "outputs": [],
   "source": [
    "# Append location to path to allow custom modules to be used.\n",
    "import sys, os\n",
    "sys.path.append(os.path.abspath(os.path.join(\"..\", \"..\")))"
   ]
  },
  {
   "cell_type": "code",
   "execution_count": 2,
   "metadata": {},
   "outputs": [
    {
     "name": "stdout",
     "output_type": "stream",
     "text": [
      "WARNING:tensorflow:From c:\\Users\\nicho\\PyProjects\\CGAEL\\.conda\\Lib\\site-packages\\keras\\src\\losses.py:2976: The name tf.losses.sparse_softmax_cross_entropy is deprecated. Please use tf.compat.v1.losses.sparse_softmax_cross_entropy instead.\n",
      "\n"
     ]
    }
   ],
   "source": [
    "import cgael\n",
    "from cgael.models.SimpleColor import *\n",
    "\n",
    "import tensorflow as tf\n",
    "import tensorflow.keras as keras\n",
    "import tensorflow.keras.layers as layer\n",
    "\n",
    "import pygad\n",
    "import pygad.kerasga\n",
    "\n",
    "import numpy as np\n",
    "import pandas as pd\n",
    "\n",
    "from PIL import Image"
   ]
  },
  {
   "cell_type": "markdown",
   "metadata": {},
   "source": [
    "# Set Up"
   ]
  },
  {
   "cell_type": "code",
   "execution_count": 3,
   "metadata": {},
   "outputs": [],
   "source": [
    "root_folder = os.path.join(\"C:\",os.sep,\"Users\",\"nicho\",\"PyProjects\",\"CGAEL\",\"results\")\n",
    "experiment_folder = \"single_simple_color\"\n",
    "experiment_prefix = \"ssc\""
   ]
  },
  {
   "cell_type": "code",
   "execution_count": 4,
   "metadata": {},
   "outputs": [],
   "source": [
    "os.makedirs(os.path.join(root_folder, experiment_folder), exist_ok=True)"
   ]
  },
  {
   "cell_type": "code",
   "execution_count": 5,
   "metadata": {},
   "outputs": [
    {
     "name": "stdout",
     "output_type": "stream",
     "text": [
      "C:\\Users\\nicho\\PyProjects\\CGAEL\\results\\single_simple_color\\ssc_3.npy\n"
     ]
    }
   ],
   "source": [
    "ID_FORMAT = \"{experiment_prefix}_{i}\"\n",
    "\n",
    "i = 1\n",
    "while os.path.exists(os.path.join(root_folder, experiment_folder, f\"{ID_FORMAT.format(experiment_prefix=experiment_prefix, i=i)}.npy\")):\n",
    "    i += 1\n",
    "    \n",
    "experiment_id = ID_FORMAT.format(experiment_prefix=experiment_prefix, i=i)\n",
    "filename = f\"{experiment_id}.npy\"\n",
    "filepath = os.path.join(root_folder, experiment_folder, filename)\n",
    "print(filepath)"
   ]
  },
  {
   "cell_type": "markdown",
   "metadata": {},
   "source": [
    "# Training"
   ]
  },
  {
   "cell_type": "code",
   "execution_count": 6,
   "metadata": {},
   "outputs": [
    {
     "name": "stdout",
     "output_type": "stream",
     "text": [
      "WARNING:tensorflow:From c:\\Users\\nicho\\PyProjects\\CGAEL\\.conda\\Lib\\site-packages\\keras\\src\\backend.py:873: The name tf.get_default_graph is deprecated. Please use tf.compat.v1.get_default_graph instead.\n",
      "\n"
     ]
    }
   ],
   "source": [
    "ts = cgael.LanguageTokenSet(\"TO\", '-')\n",
    "gen = SimpleColorGenerator([Swatch.WHITE, Swatch.BLACK, Swatch.RED, Swatch.GREEN, Swatch.BLUE, Swatch.YELLOW, Swatch.CYAN, Swatch.MAGENTA], blur=0, batch_lock=True)\n",
    "model = SimpleColorModel(token_set=ts, word_count=1, word_length=3)"
   ]
  },
  {
   "cell_type": "code",
   "execution_count": 7,
   "metadata": {},
   "outputs": [
    {
     "name": "stderr",
     "output_type": "stream",
     "text": [
      "c:\\Users\\nicho\\PyProjects\\CGAEL\\.conda\\Lib\\site-packages\\pygad\\pygad.py:909: UserWarning: The steady-state parent (sss) selection operator is used despite that no parents are kept in the next generation.\n",
      "  warnings.warn(\"The steady-state parent (sss) selection operator is used despite that no parents are kept in the next generation.\")\n"
     ]
    },
    {
     "name": "stdout",
     "output_type": "stream",
     "text": [
      "WARNING:tensorflow:5 out of the last 5 calls to <function Model.make_predict_function.<locals>.predict_function at 0x0000027781C939C0> triggered tf.function retracing. Tracing is expensive and the excessive number of tracings could be due to (1) creating @tf.function repeatedly in a loop, (2) passing tensors with different shapes, (3) passing Python objects instead of tensors. For (1), please define your @tf.function outside of the loop. For (2), @tf.function has reduce_retracing=True option that can avoid unnecessary retracing. For (3), please refer to https://www.tensorflow.org/guide/function#controlling_retracing and https://www.tensorflow.org/api_docs/python/tf/function for  more details.\n",
      "WARNING:tensorflow:6 out of the last 6 calls to <function Model.make_predict_function.<locals>.predict_function at 0x0000027781E9C180> triggered tf.function retracing. Tracing is expensive and the excessive number of tracings could be due to (1) creating @tf.function repeatedly in a loop, (2) passing tensors with different shapes, (3) passing Python objects instead of tensors. For (1), please define your @tf.function outside of the loop. For (2), @tf.function has reduce_retracing=True option that can avoid unnecessary retracing. For (3), please refer to https://www.tensorflow.org/guide/function#controlling_retracing and https://www.tensorflow.org/api_docs/python/tf/function for  more details.\n",
      "Completed Generation: 1\n",
      "Generating new batch...\n",
      "Completed Generation: 2\n",
      "Generating new batch...\n",
      "Completed Generation: 3\n",
      "Generating new batch...\n",
      "Completed Generation: 4\n",
      "Generating new batch...\n",
      "Completed Generation: 5\n",
      "Generating new batch...\n",
      "Completed Generation: 6\n",
      "Generating new batch...\n",
      "Completed Generation: 7\n",
      "Generating new batch...\n",
      "Completed Generation: 8\n",
      "Generating new batch...\n",
      "Completed Generation: 9\n",
      "Generating new batch...\n",
      "Completed Generation: 10\n",
      "Generating new batch...\n",
      "Completed Generation: 11\n",
      "Generating new batch...\n",
      "Completed Generation: 12\n",
      "Generating new batch...\n",
      "Completed Generation: 13\n",
      "Generating new batch...\n",
      "Completed Generation: 14\n",
      "Generating new batch...\n",
      "Completed Generation: 15\n",
      "Generating new batch...\n",
      "Completed Generation: 16\n",
      "Generating new batch...\n",
      "Completed Generation: 17\n",
      "Generating new batch...\n",
      "Completed Generation: 18\n",
      "Generating new batch...\n",
      "Completed Generation: 19\n",
      "Generating new batch...\n",
      "Completed Generation: 20\n",
      "Generating new batch...\n",
      "Completed Generation: 21\n",
      "Generating new batch...\n",
      "Completed Generation: 22\n",
      "Generating new batch...\n",
      "Completed Generation: 23\n",
      "Generating new batch...\n",
      "Completed Generation: 24\n",
      "Generating new batch...\n",
      "Completed Generation: 25\n",
      "Generating new batch...\n",
      "Completed Generation: 26\n",
      "Generating new batch...\n",
      "Completed Generation: 27\n",
      "Generating new batch...\n",
      "Completed Generation: 28\n",
      "Generating new batch...\n",
      "Completed Generation: 29\n",
      "Generating new batch...\n",
      "Completed Generation: 30\n",
      "Generating new batch...\n",
      "Completed Generation: 31\n",
      "Generating new batch...\n",
      "Completed Generation: 32\n",
      "Generating new batch...\n",
      "Completed Generation: 33\n",
      "Generating new batch...\n",
      "Completed Generation: 34\n",
      "Generating new batch...\n",
      "Completed Generation: 35\n",
      "Generating new batch...\n",
      "Completed Generation: 36\n",
      "Generating new batch...\n",
      "Completed Generation: 37\n",
      "Generating new batch...\n",
      "Completed Generation: 38\n",
      "Generating new batch...\n",
      "Completed Generation: 39\n",
      "Generating new batch...\n",
      "Completed Generation: 40\n",
      "Generating new batch...\n",
      "Completed Generation: 41\n",
      "Generating new batch...\n",
      "Completed Generation: 42\n",
      "Generating new batch...\n",
      "Completed Generation: 43\n",
      "Generating new batch...\n",
      "Completed Generation: 44\n",
      "Generating new batch...\n",
      "Completed Generation: 45\n",
      "Generating new batch...\n",
      "Completed Generation: 46\n",
      "Generating new batch...\n",
      "Completed Generation: 47\n",
      "Generating new batch...\n",
      "Completed Generation: 48\n",
      "Generating new batch...\n",
      "Completed Generation: 49\n",
      "Generating new batch...\n",
      "Completed Generation: 50\n",
      "Generating new batch...\n",
      "Completed Generation: 51\n",
      "Generating new batch...\n",
      "Completed Generation: 52\n",
      "Generating new batch...\n",
      "Completed Generation: 53\n",
      "Generating new batch...\n",
      "Completed Generation: 54\n",
      "Generating new batch...\n",
      "Completed Generation: 55\n",
      "Generating new batch...\n",
      "Completed Generation: 56\n",
      "Generating new batch...\n",
      "Completed Generation: 57\n",
      "Generating new batch...\n",
      "Completed Generation: 58\n",
      "Generating new batch...\n",
      "Completed Generation: 59\n",
      "Generating new batch...\n",
      "Completed Generation: 60\n",
      "Generating new batch...\n",
      "Completed Generation: 61\n",
      "Generating new batch...\n",
      "Completed Generation: 62\n",
      "Generating new batch...\n",
      "Completed Generation: 63\n",
      "Generating new batch...\n",
      "Completed Generation: 64\n",
      "Generating new batch...\n",
      "Completed Generation: 65\n",
      "Generating new batch...\n",
      "Completed Generation: 66\n",
      "Generating new batch...\n",
      "Completed Generation: 67\n",
      "Generating new batch...\n",
      "Completed Generation: 68\n",
      "Generating new batch...\n",
      "Completed Generation: 69\n",
      "Generating new batch...\n",
      "Completed Generation: 70\n",
      "Generating new batch...\n",
      "Completed Generation: 71\n",
      "Generating new batch...\n",
      "Completed Generation: 72\n",
      "Generating new batch...\n",
      "Completed Generation: 73\n",
      "Generating new batch...\n",
      "Completed Generation: 74\n",
      "Generating new batch...\n",
      "Completed Generation: 75\n",
      "Generating new batch...\n",
      "Completed Generation: 76\n",
      "Generating new batch...\n",
      "Completed Generation: 77\n",
      "Generating new batch...\n",
      "Completed Generation: 78\n",
      "Generating new batch...\n",
      "Completed Generation: 79\n",
      "Generating new batch...\n",
      "Completed Generation: 80\n",
      "Generating new batch...\n",
      "Completed Generation: 81\n",
      "Generating new batch...\n",
      "Completed Generation: 82\n",
      "Generating new batch...\n",
      "Completed Generation: 83\n",
      "Generating new batch...\n",
      "Completed Generation: 84\n",
      "Generating new batch...\n",
      "Completed Generation: 85\n",
      "Generating new batch...\n",
      "Completed Generation: 86\n",
      "Generating new batch...\n",
      "Completed Generation: 87\n",
      "Generating new batch...\n",
      "Completed Generation: 88\n",
      "Generating new batch...\n",
      "Completed Generation: 89\n",
      "Generating new batch...\n",
      "Completed Generation: 90\n",
      "Generating new batch...\n",
      "Completed Generation: 91\n",
      "Generating new batch...\n",
      "Completed Generation: 92\n",
      "Generating new batch...\n",
      "Completed Generation: 93\n",
      "Generating new batch...\n",
      "Completed Generation: 94\n",
      "Generating new batch...\n",
      "Completed Generation: 95\n",
      "Generating new batch...\n",
      "Completed Generation: 96\n",
      "Generating new batch...\n",
      "Completed Generation: 97\n",
      "Generating new batch...\n",
      "Completed Generation: 98\n",
      "Generating new batch...\n",
      "Completed Generation: 99\n",
      "Generating new batch...\n",
      "Completed Generation: 100\n",
      "Generating new batch...\n",
      "Identifying best...\n"
     ]
    }
   ],
   "source": [
    "ga_inst = model.train(\n",
    "    generator = gen,\n",
    "    generations = 100,\n",
    "    num_solutions = 50,\n",
    "    num_parents_mating = 10,\n",
    ")"
   ]
  },
  {
   "cell_type": "code",
   "execution_count": 8,
   "metadata": {},
   "outputs": [],
   "source": [
    "np.save(filepath, np.array(model.model.get_weights(), dtype=\"object\"))"
   ]
  },
  {
   "cell_type": "markdown",
   "metadata": {},
   "source": [
    "# Evaluation"
   ]
  },
  {
   "cell_type": "code",
   "execution_count": 9,
   "metadata": {},
   "outputs": [
    {
     "name": "stderr",
     "output_type": "stream",
     "text": [
      "No artists with labels found to put in legend.  Note that artists whose label start with an underscore are ignored when legend() is called with no argument.\n"
     ]
    },
    {
     "data": {
      "image/png": "[encoded data removed]",
      "text/plain": [
       "<Figure size 640x480 with 1 Axes>"
      ]
     },
     "metadata": {},
     "output_type": "display_data"
    }
   ],
   "source": [
    "plot = ga_inst.plot_fitness(title=experiment_id, color=\"#0C69D3\")\n",
    "plot.savefig(os.path.join(root_folder, experiment_folder, f\"{experiment_id}.png\"))"
   ]
  },
  {
   "cell_type": "code",
   "execution_count": 10,
   "metadata": {},
   "outputs": [
    {
     "name": "stdout",
     "output_type": "stream",
     "text": [
      "WARNING:tensorflow:From c:\\Users\\nicho\\PyProjects\\CGAEL\\.conda\\Lib\\site-packages\\keras\\src\\utils\\tf_utils.py:492: The name tf.ragged.RaggedTensorValue is deprecated. Please use tf.compat.v1.ragged.RaggedTensorValue instead.\n",
      "\n"
     ]
    },
    {
     "data": {
      "text/html": [
       "<div>\n",
       "<style scoped>\n",
       "    .dataframe tbody tr th:only-of-type {\n",
       "        vertical-align: middle;\n",
       "    }\n",
       "\n",
       "    .dataframe tbody tr th {\n",
       "        vertical-align: top;\n",
       "    }\n",
       "\n",
       "    .dataframe thead th {\n",
       "        text-align: right;\n",
       "    }\n",
       "</style>\n",
       "<table border=\"1\" class=\"dataframe\">\n",
       "  <thead>\n",
       "    <tr style=\"text-align: right;\">\n",
       "      <th></th>\n",
       "      <th>swatch</th>\n",
       "      <th>text</th>\n",
       "      <th>input</th>\n",
       "      <th>output</th>\n",
       "      <th>output_rounded</th>\n",
       "    </tr>\n",
       "  </thead>\n",
       "  <tbody>\n",
       "    <tr>\n",
       "      <th>0</th>\n",
       "      <td>Swatch.BLACK</td>\n",
       "      <td>TOT</td>\n",
       "      <td>[[0.0, 0.0, 0.0]]</td>\n",
       "      <td>[[1.5330938e-38, 1.5395303e-36, 0.0]]</td>\n",
       "      <td>[[0.0, 0.0, 0.0]]</td>\n",
       "    </tr>\n",
       "    <tr>\n",
       "      <th>1</th>\n",
       "      <td>Swatch.RED</td>\n",
       "      <td>TTT</td>\n",
       "      <td>[[0.0, 0.0, 1.0]]</td>\n",
       "      <td>[[3.58981e-37, 2.0293089e-37, 1.0]]</td>\n",
       "      <td>[[0.0, 0.0, 1.0]]</td>\n",
       "    </tr>\n",
       "    <tr>\n",
       "      <th>2</th>\n",
       "      <td>Swatch.GREEN</td>\n",
       "      <td>OOT</td>\n",
       "      <td>[[0.0, 1.0, 0.0]]</td>\n",
       "      <td>[[0.0, 1.0, 0.0]]</td>\n",
       "      <td>[[0.0, 1.0, 0.0]]</td>\n",
       "    </tr>\n",
       "    <tr>\n",
       "      <th>3</th>\n",
       "      <td>Swatch.YELLOW</td>\n",
       "      <td>OTT</td>\n",
       "      <td>[[0.0, 1.0, 1.0]]</td>\n",
       "      <td>[[0.0, 1.0, 1.0]]</td>\n",
       "      <td>[[0.0, 1.0, 1.0]]</td>\n",
       "    </tr>\n",
       "    <tr>\n",
       "      <th>4</th>\n",
       "      <td>Swatch.BLUE</td>\n",
       "      <td>TOO</td>\n",
       "      <td>[[1.0, 0.0, 0.0]]</td>\n",
       "      <td>[[1.0, 0.0, 2.693263e-37]]</td>\n",
       "      <td>[[1.0, 0.0, 0.0]]</td>\n",
       "    </tr>\n",
       "    <tr>\n",
       "      <th>5</th>\n",
       "      <td>Swatch.MAGENTA</td>\n",
       "      <td>TTO</td>\n",
       "      <td>[[1.0, 0.0, 1.0]]</td>\n",
       "      <td>[[1.0, 0.0, 1.0]]</td>\n",
       "      <td>[[1.0, 0.0, 1.0]]</td>\n",
       "    </tr>\n",
       "    <tr>\n",
       "      <th>6</th>\n",
       "      <td>Swatch.CYAN</td>\n",
       "      <td>OOO</td>\n",
       "      <td>[[1.0, 1.0, 0.0]]</td>\n",
       "      <td>[[1.0, 1.0, 1.5217169e-35]]</td>\n",
       "      <td>[[1.0, 1.0, 0.0]]</td>\n",
       "    </tr>\n",
       "    <tr>\n",
       "      <th>7</th>\n",
       "      <td>Swatch.WHITE</td>\n",
       "      <td>OTO</td>\n",
       "      <td>[[1.0, 1.0, 1.0]]</td>\n",
       "      <td>[[1.0, 1.0, 1.0]]</td>\n",
       "      <td>[[1.0, 1.0, 1.0]]</td>\n",
       "    </tr>\n",
       "  </tbody>\n",
       "</table>\n",
       "</div>"
      ],
      "text/plain": [
       "           swatch text              input  \\\n",
       "0    Swatch.BLACK  TOT  [[0.0, 0.0, 0.0]]   \n",
       "1      Swatch.RED  TTT  [[0.0, 0.0, 1.0]]   \n",
       "2    Swatch.GREEN  OOT  [[0.0, 1.0, 0.0]]   \n",
       "3   Swatch.YELLOW  OTT  [[0.0, 1.0, 1.0]]   \n",
       "4     Swatch.BLUE  TOO  [[1.0, 0.0, 0.0]]   \n",
       "5  Swatch.MAGENTA  TTO  [[1.0, 0.0, 1.0]]   \n",
       "6     Swatch.CYAN  OOO  [[1.0, 1.0, 0.0]]   \n",
       "7    Swatch.WHITE  OTO  [[1.0, 1.0, 1.0]]   \n",
       "\n",
       "                                  output     output_rounded  \n",
       "0  [[1.5330938e-38, 1.5395303e-36, 0.0]]  [[0.0, 0.0, 0.0]]  \n",
       "1    [[3.58981e-37, 2.0293089e-37, 1.0]]  [[0.0, 0.0, 1.0]]  \n",
       "2                      [[0.0, 1.0, 0.0]]  [[0.0, 1.0, 0.0]]  \n",
       "3                      [[0.0, 1.0, 1.0]]  [[0.0, 1.0, 1.0]]  \n",
       "4             [[1.0, 0.0, 2.693263e-37]]  [[1.0, 0.0, 0.0]]  \n",
       "5                      [[1.0, 0.0, 1.0]]  [[1.0, 0.0, 1.0]]  \n",
       "6            [[1.0, 1.0, 1.5217169e-35]]  [[1.0, 1.0, 0.0]]  \n",
       "7                      [[1.0, 1.0, 1.0]]  [[1.0, 1.0, 1.0]]  "
      ]
     },
     "metadata": {},
     "output_type": "display_data"
    }
   ],
   "source": [
    "KEY_SWATCH = \"swatch\"\n",
    "KEY_TEXT = \"text\"\n",
    "KEY_IN = \"input\"\n",
    "KEY_OUT = \"output\"\n",
    "KEY_ROUND = \"output_rounded\"\n",
    "\n",
    "swatches = [Swatch.BLACK, Swatch.RED, Swatch.GREEN, Swatch.YELLOW, Swatch.BLUE, Swatch.MAGENTA, Swatch.CYAN, Swatch.WHITE]\n",
    "samples = np.array([[sample_swatch(x)] for x in swatches])\n",
    "lang, out = model.model(samples)\n",
    "text = [ts.decode(x) for x in lang]\n",
    "\n",
    "d = {x:[] for x in [KEY_SWATCH, KEY_TEXT, KEY_IN, KEY_OUT, KEY_ROUND]}\n",
    "for s, t, i, o in zip(swatches, text, samples, out):\n",
    "    d[KEY_SWATCH].append(s)\n",
    "    d[KEY_TEXT].append(t)\n",
    "    d[KEY_IN].append(i)\n",
    "    o = o.numpy()\n",
    "    d[KEY_OUT].append(o)\n",
    "    o = np.round(o)\n",
    "    d[KEY_ROUND].append(o)\n",
    "df = pd.DataFrame(data=d)\n",
    "display(df)"
   ]
  }
 ],
 "metadata": {
  "kernelspec": {
   "display_name": "Python 3",
   "language": "python",
   "name": "python3"
  },
  "language_info": {
   "codemirror_mode": {
    "name": "ipython",
    "version": 3
   },
   "file_extension": ".py",
   "mimetype": "text/x-python",
   "name": "python",
   "nbconvert_exporter": "python",
   "pygments_lexer": "ipython3",
   "version": "3.11.5"
  }
 },
 "nbformat": 4,
 "nbformat_minor": 2
}
