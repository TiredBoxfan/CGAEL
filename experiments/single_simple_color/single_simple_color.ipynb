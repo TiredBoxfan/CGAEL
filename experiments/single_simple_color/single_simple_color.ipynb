{
 "cells": [
  {
   "cell_type": "markdown",
   "metadata": {},
   "source": [
    "# Imports"
   ]
  },
  {
   "cell_type": "code",
   "execution_count": 1,
   "metadata": {},
   "outputs": [],
   "source": [
    "# Append location to path to allow custom modules to be used.\n",
    "import sys, os\n",
    "sys.path.append(os.path.abspath(os.path.join(\"..\", \"..\")))"
   ]
  },
  {
   "cell_type": "code",
   "execution_count": 2,
   "metadata": {},
   "outputs": [
    {
     "name": "stdout",
     "output_type": "stream",
     "text": [
      "WARNING:tensorflow:From c:\\Users\\nicho\\PyProjects\\CGAEL\\.conda\\Lib\\site-packages\\keras\\src\\losses.py:2976: The name tf.losses.sparse_softmax_cross_entropy is deprecated. Please use tf.compat.v1.losses.sparse_softmax_cross_entropy instead.\n",
      "\n"
     ]
    }
   ],
   "source": [
    "import cgael\n",
    "from cgael.models.SimpleColor import *\n",
    "from cgael.metrics import brevity\n",
    "\n",
    "import tensorflow as tf\n",
    "import tensorflow.keras as keras\n",
    "import tensorflow.keras.layers as layer\n",
    "\n",
    "import pygad\n",
    "import pygad.kerasga\n",
    "\n",
    "import numpy as np\n",
    "import pandas as pd\n",
    "\n",
    "from PIL import Image"
   ]
  },
  {
   "cell_type": "markdown",
   "metadata": {},
   "source": [
    "# Set Up"
   ]
  },
  {
   "cell_type": "code",
   "execution_count": 3,
   "metadata": {},
   "outputs": [],
   "source": [
    "root_folder = os.path.join(\"C:\",os.sep,\"Users\",\"nicho\",\"PyProjects\",\"CGAEL_Results\")\n",
    "experiment_folder = \"single_simple_color_brevity\"\n",
    "experiment_prefix = \"sscb\""
   ]
  },
  {
   "cell_type": "code",
   "execution_count": 4,
   "metadata": {},
   "outputs": [],
   "source": [
    "os.makedirs(os.path.join(root_folder, experiment_folder), exist_ok=True)"
   ]
  },
  {
   "cell_type": "code",
   "execution_count": 5,
   "metadata": {},
   "outputs": [
    {
     "name": "stdout",
     "output_type": "stream",
     "text": [
      "C:\\Users\\nicho\\PyProjects\\CGAEL_Results\\single_simple_color_brevity\\sscb_4.npy\n"
     ]
    }
   ],
   "source": [
    "ID_FORMAT = \"{experiment_prefix}_{i}\"\n",
    "\n",
    "i = 1\n",
    "while os.path.exists(os.path.join(root_folder, experiment_folder, f\"{ID_FORMAT.format(experiment_prefix=experiment_prefix, i=i)}.npy\")):\n",
    "    i += 1\n",
    "    \n",
    "experiment_id = ID_FORMAT.format(experiment_prefix=experiment_prefix, i=i)\n",
    "filename = f\"{experiment_id}.npy\"\n",
    "filepath = os.path.join(root_folder, experiment_folder, filename)\n",
    "print(filepath)"
   ]
  },
  {
   "cell_type": "markdown",
   "metadata": {},
   "source": [
    "# Training"
   ]
  },
  {
   "cell_type": "code",
   "execution_count": 6,
   "metadata": {},
   "outputs": [
    {
     "name": "stdout",
     "output_type": "stream",
     "text": [
      "WARNING:tensorflow:From c:\\Users\\nicho\\PyProjects\\CGAEL\\.conda\\Lib\\site-packages\\keras\\src\\backend.py:873: The name tf.get_default_graph is deprecated. Please use tf.compat.v1.get_default_graph instead.\n",
      "\n"
     ]
    }
   ],
   "source": [
    "ts = cgael.LanguageTokenSet(\"CHAT\", '-')\n",
    "gen = SimpleColorGenerator(\n",
    "    [Swatch.WHITE, Swatch.BLACK, Swatch.RED, Swatch.GREEN, Swatch.BLUE, Swatch.YELLOW, Swatch.CYAN, Swatch.MAGENTA], \n",
    "    blur=0, batch_lock=True)\n",
    "model = SimpleColorModel(token_set=ts, word_count=1, word_length=10, brevity_function=brevity.simple_brevity, brevity_weight=.25)"
   ]
  },
  {
   "cell_type": "code",
   "execution_count": 7,
   "metadata": {},
   "outputs": [
    {
     "name": "stderr",
     "output_type": "stream",
     "text": [
      "c:\\Users\\nicho\\PyProjects\\CGAEL\\.conda\\Lib\\site-packages\\pygad\\pygad.py:909: UserWarning: The steady-state parent (sss) selection operator is used despite that no parents are kept in the next generation.\n",
      "  warnings.warn(\"The steady-state parent (sss) selection operator is used despite that no parents are kept in the next generation.\")\n"
     ]
    },
    {
     "name": "stdout",
     "output_type": "stream",
     "text": [
      "WARNING:tensorflow:5 out of the last 5 calls to <function Model.make_predict_function.<locals>.predict_function at 0x0000023CFCA66F20> triggered tf.function retracing. Tracing is expensive and the excessive number of tracings could be due to (1) creating @tf.function repeatedly in a loop, (2) passing tensors with different shapes, (3) passing Python objects instead of tensors. For (1), please define your @tf.function outside of the loop. For (2), @tf.function has reduce_retracing=True option that can avoid unnecessary retracing. For (3), please refer to https://www.tensorflow.org/guide/function#controlling_retracing and https://www.tensorflow.org/api_docs/python/tf/function for  more details.\n",
      "WARNING:tensorflow:6 out of the last 6 calls to <function Model.make_predict_function.<locals>.predict_function at 0x0000023CFCC14400> triggered tf.function retracing. Tracing is expensive and the excessive number of tracings could be due to (1) creating @tf.function repeatedly in a loop, (2) passing tensors with different shapes, (3) passing Python objects instead of tensors. For (1), please define your @tf.function outside of the loop. For (2), @tf.function has reduce_retracing=True option that can avoid unnecessary retracing. For (3), please refer to https://www.tensorflow.org/guide/function#controlling_retracing and https://www.tensorflow.org/api_docs/python/tf/function for  more details.\n",
      "Completed Generation: 1\n",
      "Generating new batch...\n",
      "Completed Generation: 2\n",
      "Generating new batch...\n",
      "Completed Generation: 3\n",
      "Generating new batch...\n",
      "Completed Generation: 4\n",
      "Generating new batch...\n",
      "Completed Generation: 5\n",
      "Generating new batch...\n",
      "Completed Generation: 6\n",
      "Generating new batch...\n",
      "Completed Generation: 7\n",
      "Generating new batch...\n",
      "Completed Generation: 8\n",
      "Generating new batch...\n",
      "Completed Generation: 9\n",
      "Generating new batch...\n",
      "Completed Generation: 10\n",
      "Generating new batch...\n",
      "Completed Generation: 11\n",
      "Generating new batch...\n",
      "Completed Generation: 12\n",
      "Generating new batch...\n",
      "Completed Generation: 13\n",
      "Generating new batch...\n",
      "Completed Generation: 14\n",
      "Generating new batch...\n",
      "Completed Generation: 15\n",
      "Generating new batch...\n",
      "Completed Generation: 16\n",
      "Generating new batch...\n",
      "Completed Generation: 17\n",
      "Generating new batch...\n",
      "Completed Generation: 18\n",
      "Generating new batch...\n",
      "Completed Generation: 19\n",
      "Generating new batch...\n",
      "Completed Generation: 20\n",
      "Generating new batch...\n",
      "Completed Generation: 21\n",
      "Generating new batch...\n",
      "Completed Generation: 22\n",
      "Generating new batch...\n",
      "Completed Generation: 23\n",
      "Generating new batch...\n",
      "Completed Generation: 24\n",
      "Generating new batch...\n",
      "Completed Generation: 25\n",
      "Generating new batch...\n",
      "Completed Generation: 26\n",
      "Generating new batch...\n",
      "Completed Generation: 27\n",
      "Generating new batch...\n",
      "Completed Generation: 28\n",
      "Generating new batch...\n",
      "Completed Generation: 29\n",
      "Generating new batch...\n",
      "Completed Generation: 30\n",
      "Generating new batch...\n",
      "Completed Generation: 31\n",
      "Generating new batch...\n",
      "Completed Generation: 32\n",
      "Generating new batch...\n",
      "Completed Generation: 33\n",
      "Generating new batch...\n",
      "Completed Generation: 34\n",
      "Generating new batch...\n",
      "Completed Generation: 35\n",
      "Generating new batch...\n",
      "Completed Generation: 36\n",
      "Generating new batch...\n",
      "Completed Generation: 37\n",
      "Generating new batch...\n",
      "Completed Generation: 38\n",
      "Generating new batch...\n",
      "Completed Generation: 39\n",
      "Generating new batch...\n",
      "Completed Generation: 40\n",
      "Generating new batch...\n",
      "Completed Generation: 41\n",
      "Generating new batch...\n",
      "Completed Generation: 42\n",
      "Generating new batch...\n",
      "Completed Generation: 43\n",
      "Generating new batch...\n",
      "Completed Generation: 44\n",
      "Generating new batch...\n",
      "Completed Generation: 45\n",
      "Generating new batch...\n",
      "Completed Generation: 46\n",
      "Generating new batch...\n",
      "Completed Generation: 47\n",
      "Generating new batch...\n",
      "Completed Generation: 48\n",
      "Generating new batch...\n",
      "Completed Generation: 49\n",
      "Generating new batch...\n",
      "Completed Generation: 50\n",
      "Generating new batch...\n",
      "Completed Generation: 51\n",
      "Generating new batch...\n",
      "Completed Generation: 52\n",
      "Generating new batch...\n",
      "Completed Generation: 53\n",
      "Generating new batch...\n",
      "Completed Generation: 54\n",
      "Generating new batch...\n",
      "Completed Generation: 55\n",
      "Generating new batch...\n",
      "Completed Generation: 56\n",
      "Generating new batch...\n",
      "Completed Generation: 57\n",
      "Generating new batch...\n",
      "Completed Generation: 58\n",
      "Generating new batch...\n",
      "Completed Generation: 59\n",
      "Generating new batch...\n",
      "Completed Generation: 60\n",
      "Generating new batch...\n",
      "Completed Generation: 61\n",
      "Generating new batch...\n",
      "Completed Generation: 62\n",
      "Generating new batch...\n",
      "Completed Generation: 63\n",
      "Generating new batch...\n",
      "Completed Generation: 64\n",
      "Generating new batch...\n",
      "Completed Generation: 65\n",
      "Generating new batch...\n",
      "Completed Generation: 66\n",
      "Generating new batch...\n",
      "Completed Generation: 67\n",
      "Generating new batch...\n",
      "Completed Generation: 68\n",
      "Generating new batch...\n",
      "Completed Generation: 69\n",
      "Generating new batch...\n",
      "Completed Generation: 70\n",
      "Generating new batch...\n",
      "Completed Generation: 71\n",
      "Generating new batch...\n",
      "Completed Generation: 72\n",
      "Generating new batch...\n",
      "Completed Generation: 73\n",
      "Generating new batch...\n",
      "Completed Generation: 74\n",
      "Generating new batch...\n",
      "Completed Generation: 75\n",
      "Generating new batch...\n",
      "Completed Generation: 76\n",
      "Generating new batch...\n",
      "Completed Generation: 77\n",
      "Generating new batch...\n",
      "Completed Generation: 78\n",
      "Generating new batch...\n",
      "Completed Generation: 79\n",
      "Generating new batch...\n",
      "Completed Generation: 80\n",
      "Generating new batch...\n",
      "Identifying best...\n",
      "Best fitness: -0.021876003019860944\n"
     ]
    }
   ],
   "source": [
    "ga_inst = model.train(\n",
    "    generator = gen,\n",
    "    generations = 80,\n",
    "    num_solutions = 50,\n",
    "    num_parents_mating = 5,\n",
    "    mutation_percent_genes = .1,\n",
    ")"
   ]
  },
  {
   "cell_type": "code",
   "execution_count": 8,
   "metadata": {},
   "outputs": [],
   "source": [
    "np.save(filepath, np.array(model.model.get_weights(), dtype=\"object\"))"
   ]
  },
  {
   "cell_type": "markdown",
   "metadata": {},
   "source": [
    "# Evaluation"
   ]
  },
  {
   "cell_type": "code",
   "execution_count": 9,
   "metadata": {},
   "outputs": [
    {
     "name": "stderr",
     "output_type": "stream",
     "text": [
      "No artists with labels found to put in legend.  Note that artists whose label start with an underscore are ignored when legend() is called with no argument.\n"
     ]
    },
    {
     "data": {
      "image/png": "[encoded data removed]",
      "text/plain": [
       "<Figure size 640x480 with 1 Axes>"
      ]
     },
     "metadata": {},
     "output_type": "display_data"
    }
   ],
   "source": [
    "plot = ga_inst.plot_fitness(title=experiment_id, color=\"#0C69D3\")\n",
    "plot.savefig(os.path.join(root_folder, experiment_folder, f\"{experiment_id}.png\"))"
   ]
  },
  {
   "cell_type": "code",
   "execution_count": 10,
   "metadata": {},
   "outputs": [
    {
     "name": "stdout",
     "output_type": "stream",
     "text": [
      "WARNING:tensorflow:From c:\\Users\\nicho\\PyProjects\\CGAEL\\.conda\\Lib\\site-packages\\keras\\src\\utils\\tf_utils.py:492: The name tf.ragged.RaggedTensorValue is deprecated. Please use tf.compat.v1.ragged.RaggedTensorValue instead.\n",
      "\n"
     ]
    },
    {
     "data": {
      "text/html": [
       "<div>\n",
       "<style scoped>\n",
       "    .dataframe tbody tr th:only-of-type {\n",
       "        vertical-align: middle;\n",
       "    }\n",
       "\n",
       "    .dataframe tbody tr th {\n",
       "        vertical-align: top;\n",
       "    }\n",
       "\n",
       "    .dataframe thead th {\n",
       "        text-align: right;\n",
       "    }\n",
       "</style>\n",
       "<table border=\"1\" class=\"dataframe\">\n",
       "  <thead>\n",
       "    <tr style=\"text-align: right;\">\n",
       "      <th></th>\n",
       "      <th>swatch</th>\n",
       "      <th>text</th>\n",
       "      <th>input</th>\n",
       "      <th>output</th>\n",
       "      <th>output_rounded</th>\n",
       "    </tr>\n",
       "  </thead>\n",
       "  <tbody>\n",
       "    <tr>\n",
       "      <th>0</th>\n",
       "      <td>Swatch.BLACK</td>\n",
       "      <td>C</td>\n",
       "      <td>[[0.0, 0.0, 0.0]]</td>\n",
       "      <td>[[5.4791208e-08, 3.0263282e-06, 6.0870424e-14]]</td>\n",
       "      <td>[[0.0, 0.0, 0.0]]</td>\n",
       "    </tr>\n",
       "    <tr>\n",
       "      <th>1</th>\n",
       "      <td>Swatch.RED</td>\n",
       "      <td>T</td>\n",
       "      <td>[[0.0, 0.0, 1.0]]</td>\n",
       "      <td>[[6.746841e-08, 7.3681333e-10, 0.9999999]]</td>\n",
       "      <td>[[0.0, 0.0, 1.0]]</td>\n",
       "    </tr>\n",
       "    <tr>\n",
       "      <th>2</th>\n",
       "      <td>Swatch.GREEN</td>\n",
       "      <td>CAC</td>\n",
       "      <td>[[0.0, 1.0, 0.0]]</td>\n",
       "      <td>[[8.042203e-08, 0.9999969, 5.4187995e-12]]</td>\n",
       "      <td>[[0.0, 1.0, 0.0]]</td>\n",
       "    </tr>\n",
       "    <tr>\n",
       "      <th>3</th>\n",
       "      <td>Swatch.YELLOW</td>\n",
       "      <td>H</td>\n",
       "      <td>[[0.0, 1.0, 1.0]]</td>\n",
       "      <td>[[9.432518e-08, 0.99999934, 1.0]]</td>\n",
       "      <td>[[0.0, 1.0, 1.0]]</td>\n",
       "    </tr>\n",
       "    <tr>\n",
       "      <th>4</th>\n",
       "      <td>Swatch.BLUE</td>\n",
       "      <td>CC</td>\n",
       "      <td>[[1.0, 0.0, 0.0]]</td>\n",
       "      <td>[[0.9999992, 4.2306792e-07, 4.5327284e-11]]</td>\n",
       "      <td>[[1.0, 0.0, 0.0]]</td>\n",
       "    </tr>\n",
       "    <tr>\n",
       "      <th>5</th>\n",
       "      <td>Swatch.MAGENTA</td>\n",
       "      <td>TC</td>\n",
       "      <td>[[1.0, 0.0, 1.0]]</td>\n",
       "      <td>[[0.9999994, 1.0300315e-10, 1.0]]</td>\n",
       "      <td>[[1.0, 0.0, 1.0]]</td>\n",
       "    </tr>\n",
       "    <tr>\n",
       "      <th>6</th>\n",
       "      <td>Swatch.CYAN</td>\n",
       "      <td>CAT</td>\n",
       "      <td>[[1.0, 1.0, 0.0]]</td>\n",
       "      <td>[[1.0, 0.99999, 9.779312e-16]]</td>\n",
       "      <td>[[1.0, 1.0, 0.0]]</td>\n",
       "    </tr>\n",
       "    <tr>\n",
       "      <th>7</th>\n",
       "      <td>Swatch.WHITE</td>\n",
       "      <td>HC</td>\n",
       "      <td>[[1.0, 1.0, 1.0]]</td>\n",
       "      <td>[[0.9999996, 0.99999535, 1.0]]</td>\n",
       "      <td>[[1.0, 1.0, 1.0]]</td>\n",
       "    </tr>\n",
       "  </tbody>\n",
       "</table>\n",
       "</div>"
      ],
      "text/plain": [
       "           swatch text              input  \\\n",
       "0    Swatch.BLACK    C  [[0.0, 0.0, 0.0]]   \n",
       "1      Swatch.RED    T  [[0.0, 0.0, 1.0]]   \n",
       "2    Swatch.GREEN  CAC  [[0.0, 1.0, 0.0]]   \n",
       "3   Swatch.YELLOW    H  [[0.0, 1.0, 1.0]]   \n",
       "4     Swatch.BLUE   CC  [[1.0, 0.0, 0.0]]   \n",
       "5  Swatch.MAGENTA   TC  [[1.0, 0.0, 1.0]]   \n",
       "6     Swatch.CYAN  CAT  [[1.0, 1.0, 0.0]]   \n",
       "7    Swatch.WHITE   HC  [[1.0, 1.0, 1.0]]   \n",
       "\n",
       "                                            output     output_rounded  \n",
       "0  [[5.4791208e-08, 3.0263282e-06, 6.0870424e-14]]  [[0.0, 0.0, 0.0]]  \n",
       "1       [[6.746841e-08, 7.3681333e-10, 0.9999999]]  [[0.0, 0.0, 1.0]]  \n",
       "2       [[8.042203e-08, 0.9999969, 5.4187995e-12]]  [[0.0, 1.0, 0.0]]  \n",
       "3                [[9.432518e-08, 0.99999934, 1.0]]  [[0.0, 1.0, 1.0]]  \n",
       "4      [[0.9999992, 4.2306792e-07, 4.5327284e-11]]  [[1.0, 0.0, 0.0]]  \n",
       "5                [[0.9999994, 1.0300315e-10, 1.0]]  [[1.0, 0.0, 1.0]]  \n",
       "6                   [[1.0, 0.99999, 9.779312e-16]]  [[1.0, 1.0, 0.0]]  \n",
       "7                   [[0.9999996, 0.99999535, 1.0]]  [[1.0, 1.0, 1.0]]  "
      ]
     },
     "metadata": {},
     "output_type": "display_data"
    }
   ],
   "source": [
    "KEY_SWATCH = \"swatch\"\n",
    "KEY_TEXT = \"text\"\n",
    "KEY_IN = \"input\"\n",
    "KEY_OUT = \"output\"\n",
    "KEY_ROUND = \"output_rounded\"\n",
    "\n",
    "swatches = [Swatch.BLACK, Swatch.RED, Swatch.GREEN, Swatch.YELLOW, Swatch.BLUE, Swatch.MAGENTA, Swatch.CYAN, Swatch.WHITE]\n",
    "samples = np.array([[sample_swatch(x)] for x in swatches])\n",
    "lang, out = model.model(samples)\n",
    "text = [ts.decode(x) for x in lang]\n",
    "\n",
    "d = {x:[] for x in [KEY_SWATCH, KEY_TEXT, KEY_IN, KEY_OUT, KEY_ROUND]}\n",
    "for s, t, i, o in zip(swatches, text, samples, out):\n",
    "    d[KEY_SWATCH].append(s)\n",
    "    d[KEY_TEXT].append(t)\n",
    "    d[KEY_IN].append(i)\n",
    "    o = o.numpy()\n",
    "    d[KEY_OUT].append(o)\n",
    "    o = np.round(o)\n",
    "    d[KEY_ROUND].append(o)\n",
    "df = pd.DataFrame(data=d)\n",
    "display(df)"
   ]
  },
  {
   "cell_type": "code",
   "execution_count": 11,
   "metadata": {},
   "outputs": [
    {
     "ename": "ValueError",
     "evalue": "Input 0 of layer \"listener\" is incompatible with the layer: expected shape=(None, 1, 10), found shape=(85, 1, 3)",
     "output_type": "error",
     "traceback": [
      "\u001b[1;31m---------------------------------------------------------------------------\u001b[0m",
      "\u001b[1;31mValueError\u001b[0m                                Traceback (most recent call last)",
      "Cell \u001b[1;32mIn[11], line 15\u001b[0m\n\u001b[0;32m     13\u001b[0m text \u001b[38;5;241m=\u001b[39m generate_words(ts\u001b[38;5;241m.\u001b[39malphabet_tokens, \u001b[38;5;241m3\u001b[39m)\n\u001b[0;32m     14\u001b[0m data \u001b[38;5;241m=\u001b[39m np\u001b[38;5;241m.\u001b[39marray([ts\u001b[38;5;241m.\u001b[39mencode(x, shape\u001b[38;5;241m=\u001b[39m(\u001b[38;5;241m1\u001b[39m,\u001b[38;5;241m3\u001b[39m)) \u001b[38;5;28;01mfor\u001b[39;00m x \u001b[38;5;129;01min\u001b[39;00m text])\n\u001b[1;32m---> 15\u001b[0m out \u001b[38;5;241m=\u001b[39m \u001b[43mmodel\u001b[49m\u001b[38;5;241;43m.\u001b[39;49m\u001b[43mlistener\u001b[49m\u001b[43m(\u001b[49m\u001b[43mdata\u001b[49m\u001b[43m)\u001b[49m\n\u001b[0;32m     17\u001b[0m d \u001b[38;5;241m=\u001b[39m {x:[] \u001b[38;5;28;01mfor\u001b[39;00m x \u001b[38;5;129;01min\u001b[39;00m [KEY_TEXT, KEY_OUT, KEY_ROUND]}\n\u001b[0;32m     18\u001b[0m \u001b[38;5;28;01mfor\u001b[39;00m t, o \u001b[38;5;129;01min\u001b[39;00m \u001b[38;5;28mzip\u001b[39m(text, out):\n",
      "File \u001b[1;32mc:\\Users\\nicho\\PyProjects\\CGAEL\\.conda\\Lib\\site-packages\\keras\\src\\utils\\traceback_utils.py:70\u001b[0m, in \u001b[0;36mfilter_traceback.<locals>.error_handler\u001b[1;34m(*args, **kwargs)\u001b[0m\n\u001b[0;32m     67\u001b[0m     filtered_tb \u001b[38;5;241m=\u001b[39m _process_traceback_frames(e\u001b[38;5;241m.\u001b[39m__traceback__)\n\u001b[0;32m     68\u001b[0m     \u001b[38;5;66;03m# To get the full stack trace, call:\u001b[39;00m\n\u001b[0;32m     69\u001b[0m     \u001b[38;5;66;03m# `tf.debugging.disable_traceback_filtering()`\u001b[39;00m\n\u001b[1;32m---> 70\u001b[0m     \u001b[38;5;28;01mraise\u001b[39;00m e\u001b[38;5;241m.\u001b[39mwith_traceback(filtered_tb) \u001b[38;5;28;01mfrom\u001b[39;00m \u001b[38;5;28;01mNone\u001b[39;00m\n\u001b[0;32m     71\u001b[0m \u001b[38;5;28;01mfinally\u001b[39;00m:\n\u001b[0;32m     72\u001b[0m     \u001b[38;5;28;01mdel\u001b[39;00m filtered_tb\n",
      "File \u001b[1;32mc:\\Users\\nicho\\PyProjects\\CGAEL\\.conda\\Lib\\site-packages\\keras\\src\\engine\\input_spec.py:298\u001b[0m, in \u001b[0;36massert_input_compatibility\u001b[1;34m(input_spec, inputs, layer_name)\u001b[0m\n\u001b[0;32m    296\u001b[0m \u001b[38;5;28;01mif\u001b[39;00m spec_dim \u001b[38;5;129;01mis\u001b[39;00m \u001b[38;5;129;01mnot\u001b[39;00m \u001b[38;5;28;01mNone\u001b[39;00m \u001b[38;5;129;01mand\u001b[39;00m dim \u001b[38;5;129;01mis\u001b[39;00m \u001b[38;5;129;01mnot\u001b[39;00m \u001b[38;5;28;01mNone\u001b[39;00m:\n\u001b[0;32m    297\u001b[0m     \u001b[38;5;28;01mif\u001b[39;00m spec_dim \u001b[38;5;241m!=\u001b[39m dim:\n\u001b[1;32m--> 298\u001b[0m         \u001b[38;5;28;01mraise\u001b[39;00m \u001b[38;5;167;01mValueError\u001b[39;00m(\n\u001b[0;32m    299\u001b[0m             \u001b[38;5;124mf\u001b[39m\u001b[38;5;124m'\u001b[39m\u001b[38;5;124mInput \u001b[39m\u001b[38;5;132;01m{\u001b[39;00minput_index\u001b[38;5;132;01m}\u001b[39;00m\u001b[38;5;124m of layer \u001b[39m\u001b[38;5;124m\"\u001b[39m\u001b[38;5;132;01m{\u001b[39;00mlayer_name\u001b[38;5;132;01m}\u001b[39;00m\u001b[38;5;124m\"\u001b[39m\u001b[38;5;124m is \u001b[39m\u001b[38;5;124m'\u001b[39m\n\u001b[0;32m    300\u001b[0m             \u001b[38;5;124m\"\u001b[39m\u001b[38;5;124mincompatible with the layer: \u001b[39m\u001b[38;5;124m\"\u001b[39m\n\u001b[0;32m    301\u001b[0m             \u001b[38;5;124mf\u001b[39m\u001b[38;5;124m\"\u001b[39m\u001b[38;5;124mexpected shape=\u001b[39m\u001b[38;5;132;01m{\u001b[39;00mspec\u001b[38;5;241m.\u001b[39mshape\u001b[38;5;132;01m}\u001b[39;00m\u001b[38;5;124m, \u001b[39m\u001b[38;5;124m\"\u001b[39m\n\u001b[0;32m    302\u001b[0m             \u001b[38;5;124mf\u001b[39m\u001b[38;5;124m\"\u001b[39m\u001b[38;5;124mfound shape=\u001b[39m\u001b[38;5;132;01m{\u001b[39;00mdisplay_shape(x\u001b[38;5;241m.\u001b[39mshape)\u001b[38;5;132;01m}\u001b[39;00m\u001b[38;5;124m\"\u001b[39m\n\u001b[0;32m    303\u001b[0m         )\n",
      "\u001b[1;31mValueError\u001b[0m: Input 0 of layer \"listener\" is incompatible with the layer: expected shape=(None, 1, 10), found shape=(85, 1, 3)"
     ]
    }
   ],
   "source": [
    "KEY_TEXT = \"text\"\n",
    "KEY_OUT = \"output\"\n",
    "KEY_ROUND = \"output_rounded\"\n",
    "\n",
    "def generate_words(tokens, n):\n",
    "    temp = tokens\n",
    "    total = [''] + temp\n",
    "    for _ in range(n-1):\n",
    "        temp = [x+y for x in temp for y in tokens]\n",
    "        total = total + temp\n",
    "    return total\n",
    "\n",
    "text = generate_words(ts.alphabet_tokens, 3)\n",
    "data = np.array([ts.encode(x, shape=(1,3)) for x in text])\n",
    "out = model.listener(data)\n",
    "\n",
    "d = {x:[] for x in [KEY_TEXT, KEY_OUT, KEY_ROUND]}\n",
    "for t, o in zip(text, out):\n",
    "    d[KEY_TEXT].append(t)\n",
    "    o = o.numpy()\n",
    "    d[KEY_OUT].append(o)\n",
    "    o = np.round(o)\n",
    "    d[KEY_ROUND].append(o)\n",
    "df = pd.DataFrame(data=d)\n",
    "display(df)"
   ]
  }
 ],
 "metadata": {
  "kernelspec": {
   "display_name": "Python 3",
   "language": "python",
   "name": "python3"
  },
  "language_info": {
   "codemirror_mode": {
    "name": "ipython",
    "version": 3
   },
   "file_extension": ".py",
   "mimetype": "text/x-python",
   "name": "python",
   "nbconvert_exporter": "python",
   "pygments_lexer": "ipython3",
   "version": "3.11.5"
  }
 },
 "nbformat": 4,
 "nbformat_minor": 2
}
